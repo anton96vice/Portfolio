{
 "cells": [
  {
   "cell_type": "code",
   "execution_count": 1,
   "metadata": {
    "_cell_guid": "b1076dfc-b9ad-4769-8c92-a6c4dae69d19",
    "_uuid": "8f2839f25d086af736a60e9eeb907d3b93b6e0e5",
    "execution": {
     "iopub.execute_input": "2020-11-04T12:46:18.331901Z",
     "iopub.status.busy": "2020-11-04T12:46:18.331169Z",
     "iopub.status.idle": "2020-11-04T12:46:18.335645Z",
     "shell.execute_reply": "2020-11-04T12:46:18.335006Z"
    },
    "papermill": {
     "duration": 0.048651,
     "end_time": "2020-11-04T12:46:18.335764",
     "exception": false,
     "start_time": "2020-11-04T12:46:18.287113",
     "status": "completed"
    },
    "tags": []
   },
   "outputs": [
    {
     "name": "stdout",
     "output_type": "stream",
     "text": [
      "/kaggle/input/titanic/gender_submission.csv\n",
      "/kaggle/input/titanic/test.csv\n",
      "/kaggle/input/titanic/train.csv\n"
     ]
    }
   ],
   "source": [
    "import os\n",
    "for dirname, _, filenames in os.walk('/kaggle/input'):\n",
    "    for filename in filenames:\n",
    "        print(os.path.join(dirname, filename))"
   ]
  },
  {
   "cell_type": "markdown",
   "metadata": {
    "papermill": {
     "duration": 0.037715,
     "end_time": "2020-11-04T12:46:18.413056",
     "exception": false,
     "start_time": "2020-11-04T12:46:18.375341",
     "status": "completed"
    },
    "tags": []
   },
   "source": [
    "# Imports, loading data, looking at data"
   ]
  },
  {
   "cell_type": "code",
   "execution_count": 2,
   "metadata": {
    "execution": {
     "iopub.execute_input": "2020-11-04T12:46:18.498960Z",
     "iopub.status.busy": "2020-11-04T12:46:18.498063Z",
     "iopub.status.idle": "2020-11-04T12:46:19.281317Z",
     "shell.execute_reply": "2020-11-04T12:46:19.280781Z"
    },
    "papermill": {
     "duration": 0.827687,
     "end_time": "2020-11-04T12:46:19.281438",
     "exception": false,
     "start_time": "2020-11-04T12:46:18.453751",
     "status": "completed"
    },
    "tags": []
   },
   "outputs": [],
   "source": [
    "import numpy as np # linear algebra\n",
    "import pandas as pd # data processing, CSV file I/O (e.g. pd.read_csv)\n",
    "import seaborn as sns"
   ]
  },
  {
   "cell_type": "code",
   "execution_count": 3,
   "metadata": {
    "_cell_guid": "79c7e3d0-c299-4dcb-8224-4455121ee9b0",
    "_uuid": "d629ff2d2480ee46fbb7e2d37f6b5fab8052498a",
    "execution": {
     "iopub.execute_input": "2020-11-04T12:46:19.364399Z",
     "iopub.status.busy": "2020-11-04T12:46:19.363747Z",
     "iopub.status.idle": "2020-11-04T12:46:19.393119Z",
     "shell.execute_reply": "2020-11-04T12:46:19.392593Z"
    },
    "papermill": {
     "duration": 0.07358,
     "end_time": "2020-11-04T12:46:19.393231",
     "exception": false,
     "start_time": "2020-11-04T12:46:19.319651",
     "status": "completed"
    },
    "tags": []
   },
   "outputs": [
    {
     "data": {
      "text/html": [
       "<div>\n",
       "<style scoped>\n",
       "    .dataframe tbody tr th:only-of-type {\n",
       "        vertical-align: middle;\n",
       "    }\n",
       "\n",
       "    .dataframe tbody tr th {\n",
       "        vertical-align: top;\n",
       "    }\n",
       "\n",
       "    .dataframe thead th {\n",
       "        text-align: right;\n",
       "    }\n",
       "</style>\n",
       "<table border=\"1\" class=\"dataframe\">\n",
       "  <thead>\n",
       "    <tr style=\"text-align: right;\">\n",
       "      <th></th>\n",
       "      <th>PassengerId</th>\n",
       "      <th>Survived</th>\n",
       "      <th>Pclass</th>\n",
       "      <th>Name</th>\n",
       "      <th>Sex</th>\n",
       "      <th>Age</th>\n",
       "      <th>SibSp</th>\n",
       "      <th>Parch</th>\n",
       "      <th>Ticket</th>\n",
       "      <th>Fare</th>\n",
       "      <th>Cabin</th>\n",
       "      <th>Embarked</th>\n",
       "    </tr>\n",
       "  </thead>\n",
       "  <tbody>\n",
       "    <tr>\n",
       "      <th>0</th>\n",
       "      <td>1</td>\n",
       "      <td>0</td>\n",
       "      <td>3</td>\n",
       "      <td>Braund, Mr. Owen Harris</td>\n",
       "      <td>male</td>\n",
       "      <td>22.0</td>\n",
       "      <td>1</td>\n",
       "      <td>0</td>\n",
       "      <td>A/5 21171</td>\n",
       "      <td>7.2500</td>\n",
       "      <td>NaN</td>\n",
       "      <td>S</td>\n",
       "    </tr>\n",
       "    <tr>\n",
       "      <th>1</th>\n",
       "      <td>2</td>\n",
       "      <td>1</td>\n",
       "      <td>1</td>\n",
       "      <td>Cumings, Mrs. John Bradley (Florence Briggs Th...</td>\n",
       "      <td>female</td>\n",
       "      <td>38.0</td>\n",
       "      <td>1</td>\n",
       "      <td>0</td>\n",
       "      <td>PC 17599</td>\n",
       "      <td>71.2833</td>\n",
       "      <td>C85</td>\n",
       "      <td>C</td>\n",
       "    </tr>\n",
       "    <tr>\n",
       "      <th>2</th>\n",
       "      <td>3</td>\n",
       "      <td>1</td>\n",
       "      <td>3</td>\n",
       "      <td>Heikkinen, Miss. Laina</td>\n",
       "      <td>female</td>\n",
       "      <td>26.0</td>\n",
       "      <td>0</td>\n",
       "      <td>0</td>\n",
       "      <td>STON/O2. 3101282</td>\n",
       "      <td>7.9250</td>\n",
       "      <td>NaN</td>\n",
       "      <td>S</td>\n",
       "    </tr>\n",
       "    <tr>\n",
       "      <th>3</th>\n",
       "      <td>4</td>\n",
       "      <td>1</td>\n",
       "      <td>1</td>\n",
       "      <td>Futrelle, Mrs. Jacques Heath (Lily May Peel)</td>\n",
       "      <td>female</td>\n",
       "      <td>35.0</td>\n",
       "      <td>1</td>\n",
       "      <td>0</td>\n",
       "      <td>113803</td>\n",
       "      <td>53.1000</td>\n",
       "      <td>C123</td>\n",
       "      <td>S</td>\n",
       "    </tr>\n",
       "    <tr>\n",
       "      <th>4</th>\n",
       "      <td>5</td>\n",
       "      <td>0</td>\n",
       "      <td>3</td>\n",
       "      <td>Allen, Mr. William Henry</td>\n",
       "      <td>male</td>\n",
       "      <td>35.0</td>\n",
       "      <td>0</td>\n",
       "      <td>0</td>\n",
       "      <td>373450</td>\n",
       "      <td>8.0500</td>\n",
       "      <td>NaN</td>\n",
       "      <td>S</td>\n",
       "    </tr>\n",
       "  </tbody>\n",
       "</table>\n",
       "</div>"
      ],
      "text/plain": [
       "   PassengerId  Survived  Pclass  \\\n",
       "0            1         0       3   \n",
       "1            2         1       1   \n",
       "2            3         1       3   \n",
       "3            4         1       1   \n",
       "4            5         0       3   \n",
       "\n",
       "                                                Name     Sex   Age  SibSp  \\\n",
       "0                            Braund, Mr. Owen Harris    male  22.0      1   \n",
       "1  Cumings, Mrs. John Bradley (Florence Briggs Th...  female  38.0      1   \n",
       "2                             Heikkinen, Miss. Laina  female  26.0      0   \n",
       "3       Futrelle, Mrs. Jacques Heath (Lily May Peel)  female  35.0      1   \n",
       "4                           Allen, Mr. William Henry    male  35.0      0   \n",
       "\n",
       "   Parch            Ticket     Fare Cabin Embarked  \n",
       "0      0         A/5 21171   7.2500   NaN        S  \n",
       "1      0          PC 17599  71.2833   C85        C  \n",
       "2      0  STON/O2. 3101282   7.9250   NaN        S  \n",
       "3      0            113803  53.1000  C123        S  \n",
       "4      0            373450   8.0500   NaN        S  "
      ]
     },
     "execution_count": 3,
     "metadata": {},
     "output_type": "execute_result"
    }
   ],
   "source": [
    "train_data = pd.read_csv(\"../input/titanic/train.csv\")\n",
    "train_data.head()"
   ]
  },
  {
   "cell_type": "code",
   "execution_count": 4,
   "metadata": {
    "execution": {
     "iopub.execute_input": "2020-11-04T12:46:19.476993Z",
     "iopub.status.busy": "2020-11-04T12:46:19.476315Z",
     "iopub.status.idle": "2020-11-04T12:46:19.496264Z",
     "shell.execute_reply": "2020-11-04T12:46:19.495584Z"
    },
    "papermill": {
     "duration": 0.064211,
     "end_time": "2020-11-04T12:46:19.496406",
     "exception": false,
     "start_time": "2020-11-04T12:46:19.432195",
     "status": "completed"
    },
    "tags": []
   },
   "outputs": [
    {
     "data": {
      "text/html": [
       "<div>\n",
       "<style scoped>\n",
       "    .dataframe tbody tr th:only-of-type {\n",
       "        vertical-align: middle;\n",
       "    }\n",
       "\n",
       "    .dataframe tbody tr th {\n",
       "        vertical-align: top;\n",
       "    }\n",
       "\n",
       "    .dataframe thead th {\n",
       "        text-align: right;\n",
       "    }\n",
       "</style>\n",
       "<table border=\"1\" class=\"dataframe\">\n",
       "  <thead>\n",
       "    <tr style=\"text-align: right;\">\n",
       "      <th></th>\n",
       "      <th>PassengerId</th>\n",
       "      <th>Pclass</th>\n",
       "      <th>Name</th>\n",
       "      <th>Sex</th>\n",
       "      <th>Age</th>\n",
       "      <th>SibSp</th>\n",
       "      <th>Parch</th>\n",
       "      <th>Ticket</th>\n",
       "      <th>Fare</th>\n",
       "      <th>Cabin</th>\n",
       "      <th>Embarked</th>\n",
       "    </tr>\n",
       "  </thead>\n",
       "  <tbody>\n",
       "    <tr>\n",
       "      <th>0</th>\n",
       "      <td>892</td>\n",
       "      <td>3</td>\n",
       "      <td>Kelly, Mr. James</td>\n",
       "      <td>male</td>\n",
       "      <td>34.5</td>\n",
       "      <td>0</td>\n",
       "      <td>0</td>\n",
       "      <td>330911</td>\n",
       "      <td>7.8292</td>\n",
       "      <td>NaN</td>\n",
       "      <td>Q</td>\n",
       "    </tr>\n",
       "    <tr>\n",
       "      <th>1</th>\n",
       "      <td>893</td>\n",
       "      <td>3</td>\n",
       "      <td>Wilkes, Mrs. James (Ellen Needs)</td>\n",
       "      <td>female</td>\n",
       "      <td>47.0</td>\n",
       "      <td>1</td>\n",
       "      <td>0</td>\n",
       "      <td>363272</td>\n",
       "      <td>7.0000</td>\n",
       "      <td>NaN</td>\n",
       "      <td>S</td>\n",
       "    </tr>\n",
       "    <tr>\n",
       "      <th>2</th>\n",
       "      <td>894</td>\n",
       "      <td>2</td>\n",
       "      <td>Myles, Mr. Thomas Francis</td>\n",
       "      <td>male</td>\n",
       "      <td>62.0</td>\n",
       "      <td>0</td>\n",
       "      <td>0</td>\n",
       "      <td>240276</td>\n",
       "      <td>9.6875</td>\n",
       "      <td>NaN</td>\n",
       "      <td>Q</td>\n",
       "    </tr>\n",
       "    <tr>\n",
       "      <th>3</th>\n",
       "      <td>895</td>\n",
       "      <td>3</td>\n",
       "      <td>Wirz, Mr. Albert</td>\n",
       "      <td>male</td>\n",
       "      <td>27.0</td>\n",
       "      <td>0</td>\n",
       "      <td>0</td>\n",
       "      <td>315154</td>\n",
       "      <td>8.6625</td>\n",
       "      <td>NaN</td>\n",
       "      <td>S</td>\n",
       "    </tr>\n",
       "    <tr>\n",
       "      <th>4</th>\n",
       "      <td>896</td>\n",
       "      <td>3</td>\n",
       "      <td>Hirvonen, Mrs. Alexander (Helga E Lindqvist)</td>\n",
       "      <td>female</td>\n",
       "      <td>22.0</td>\n",
       "      <td>1</td>\n",
       "      <td>1</td>\n",
       "      <td>3101298</td>\n",
       "      <td>12.2875</td>\n",
       "      <td>NaN</td>\n",
       "      <td>S</td>\n",
       "    </tr>\n",
       "  </tbody>\n",
       "</table>\n",
       "</div>"
      ],
      "text/plain": [
       "   PassengerId  Pclass                                          Name     Sex  \\\n",
       "0          892       3                              Kelly, Mr. James    male   \n",
       "1          893       3              Wilkes, Mrs. James (Ellen Needs)  female   \n",
       "2          894       2                     Myles, Mr. Thomas Francis    male   \n",
       "3          895       3                              Wirz, Mr. Albert    male   \n",
       "4          896       3  Hirvonen, Mrs. Alexander (Helga E Lindqvist)  female   \n",
       "\n",
       "    Age  SibSp  Parch   Ticket     Fare Cabin Embarked  \n",
       "0  34.5      0      0   330911   7.8292   NaN        Q  \n",
       "1  47.0      1      0   363272   7.0000   NaN        S  \n",
       "2  62.0      0      0   240276   9.6875   NaN        Q  \n",
       "3  27.0      0      0   315154   8.6625   NaN        S  \n",
       "4  22.0      1      1  3101298  12.2875   NaN        S  "
      ]
     },
     "execution_count": 4,
     "metadata": {},
     "output_type": "execute_result"
    }
   ],
   "source": [
    "test_data = pd.read_csv(\"../input/titanic/test.csv\")\n",
    "test_data.head()"
   ]
  },
  {
   "cell_type": "code",
   "execution_count": null,
   "metadata": {
    "papermill": {
     "duration": 0.039508,
     "end_time": "2020-11-04T12:46:19.575557",
     "exception": false,
     "start_time": "2020-11-04T12:46:19.536049",
     "status": "completed"
    },
    "tags": []
   },
   "outputs": [],
   "source": [
    "\n"
   ]
  },
  {
   "cell_type": "code",
   "execution_count": 5,
   "metadata": {
    "execution": {
     "iopub.execute_input": "2020-11-04T12:46:19.669173Z",
     "iopub.status.busy": "2020-11-04T12:46:19.668402Z",
     "iopub.status.idle": "2020-11-04T12:46:19.671895Z",
     "shell.execute_reply": "2020-11-04T12:46:19.671250Z"
    },
    "papermill": {
     "duration": 0.056651,
     "end_time": "2020-11-04T12:46:19.672008",
     "exception": false,
     "start_time": "2020-11-04T12:46:19.615357",
     "status": "completed"
    },
    "tags": []
   },
   "outputs": [],
   "source": [
    "test_data['Survived'] = \"test\"\n",
    "df = test_data.append(train_data, sort=False).reset_index(drop=True) # объединяем"
   ]
  },
  {
   "cell_type": "code",
   "execution_count": 6,
   "metadata": {
    "execution": {
     "iopub.execute_input": "2020-11-04T12:46:19.759435Z",
     "iopub.status.busy": "2020-11-04T12:46:19.758779Z",
     "iopub.status.idle": "2020-11-04T12:46:19.775868Z",
     "shell.execute_reply": "2020-11-04T12:46:19.775284Z"
    },
    "papermill": {
     "duration": 0.063545,
     "end_time": "2020-11-04T12:46:19.775986",
     "exception": false,
     "start_time": "2020-11-04T12:46:19.712441",
     "status": "completed"
    },
    "tags": []
   },
   "outputs": [
    {
     "name": "stdout",
     "output_type": "stream",
     "text": [
      "PassengerId      0\n",
      "Pclass           0\n",
      "Name             0\n",
      "Sex              0\n",
      "Age             86\n",
      "SibSp            0\n",
      "Parch            0\n",
      "Ticket           0\n",
      "Fare             1\n",
      "Cabin          327\n",
      "Embarked         0\n",
      "Survived         0\n",
      "dtype: int64\n",
      "----------\n",
      "PassengerId      0\n",
      "Survived         0\n",
      "Pclass           0\n",
      "Name             0\n",
      "Sex              0\n",
      "Age            177\n",
      "SibSp            0\n",
      "Parch            0\n",
      "Ticket           0\n",
      "Fare             0\n",
      "Cabin          687\n",
      "Embarked         2\n",
      "dtype: int64\n",
      "----------\n",
      "Pclass        0\n",
      "Name          0\n",
      "Sex           0\n",
      "Age         263\n",
      "SibSp         0\n",
      "Parch         0\n",
      "Fare          1\n",
      "Embarked      2\n",
      "Survived      0\n",
      "dtype: int64\n"
     ]
    }
   ],
   "source": [
    "drop_column = ['PassengerId','Cabin', 'Ticket']\n",
    "df = df.drop(drop_column, axis=1)\n",
    "\n",
    "print(test_data.isnull().sum())\n",
    "print(\"-\"*10)\n",
    "print(train_data.isnull().sum())\n",
    "print(\"-\"*10)\n",
    "print(df.isnull().sum())"
   ]
  },
  {
   "cell_type": "code",
   "execution_count": 7,
   "metadata": {
    "execution": {
     "iopub.execute_input": "2020-11-04T12:46:19.877494Z",
     "iopub.status.busy": "2020-11-04T12:46:19.871079Z",
     "iopub.status.idle": "2020-11-04T12:46:19.882021Z",
     "shell.execute_reply": "2020-11-04T12:46:19.881405Z"
    },
    "papermill": {
     "duration": 0.065526,
     "end_time": "2020-11-04T12:46:19.882132",
     "exception": false,
     "start_time": "2020-11-04T12:46:19.816606",
     "status": "completed"
    },
    "tags": []
   },
   "outputs": [
    {
     "data": {
      "text/html": [
       "<div>\n",
       "<style scoped>\n",
       "    .dataframe tbody tr th:only-of-type {\n",
       "        vertical-align: middle;\n",
       "    }\n",
       "\n",
       "    .dataframe tbody tr th {\n",
       "        vertical-align: top;\n",
       "    }\n",
       "\n",
       "    .dataframe thead th {\n",
       "        text-align: right;\n",
       "    }\n",
       "</style>\n",
       "<table border=\"1\" class=\"dataframe\">\n",
       "  <thead>\n",
       "    <tr style=\"text-align: right;\">\n",
       "      <th></th>\n",
       "      <th>Pclass</th>\n",
       "      <th>Name</th>\n",
       "      <th>Sex</th>\n",
       "      <th>Age</th>\n",
       "      <th>SibSp</th>\n",
       "      <th>Parch</th>\n",
       "      <th>Fare</th>\n",
       "      <th>Embarked</th>\n",
       "      <th>Survived</th>\n",
       "    </tr>\n",
       "  </thead>\n",
       "  <tbody>\n",
       "    <tr>\n",
       "      <th>0</th>\n",
       "      <td>3</td>\n",
       "      <td>Kelly, Mr. James</td>\n",
       "      <td>male</td>\n",
       "      <td>34.5</td>\n",
       "      <td>0</td>\n",
       "      <td>0</td>\n",
       "      <td>7.8292</td>\n",
       "      <td>Q</td>\n",
       "      <td>test</td>\n",
       "    </tr>\n",
       "    <tr>\n",
       "      <th>1</th>\n",
       "      <td>3</td>\n",
       "      <td>Wilkes, Mrs. James (Ellen Needs)</td>\n",
       "      <td>female</td>\n",
       "      <td>47.0</td>\n",
       "      <td>1</td>\n",
       "      <td>0</td>\n",
       "      <td>7.0000</td>\n",
       "      <td>S</td>\n",
       "      <td>test</td>\n",
       "    </tr>\n",
       "    <tr>\n",
       "      <th>2</th>\n",
       "      <td>2</td>\n",
       "      <td>Myles, Mr. Thomas Francis</td>\n",
       "      <td>male</td>\n",
       "      <td>62.0</td>\n",
       "      <td>0</td>\n",
       "      <td>0</td>\n",
       "      <td>9.6875</td>\n",
       "      <td>Q</td>\n",
       "      <td>test</td>\n",
       "    </tr>\n",
       "    <tr>\n",
       "      <th>3</th>\n",
       "      <td>3</td>\n",
       "      <td>Wirz, Mr. Albert</td>\n",
       "      <td>male</td>\n",
       "      <td>27.0</td>\n",
       "      <td>0</td>\n",
       "      <td>0</td>\n",
       "      <td>8.6625</td>\n",
       "      <td>S</td>\n",
       "      <td>test</td>\n",
       "    </tr>\n",
       "    <tr>\n",
       "      <th>4</th>\n",
       "      <td>3</td>\n",
       "      <td>Hirvonen, Mrs. Alexander (Helga E Lindqvist)</td>\n",
       "      <td>female</td>\n",
       "      <td>22.0</td>\n",
       "      <td>1</td>\n",
       "      <td>1</td>\n",
       "      <td>12.2875</td>\n",
       "      <td>S</td>\n",
       "      <td>test</td>\n",
       "    </tr>\n",
       "    <tr>\n",
       "      <th>...</th>\n",
       "      <td>...</td>\n",
       "      <td>...</td>\n",
       "      <td>...</td>\n",
       "      <td>...</td>\n",
       "      <td>...</td>\n",
       "      <td>...</td>\n",
       "      <td>...</td>\n",
       "      <td>...</td>\n",
       "      <td>...</td>\n",
       "    </tr>\n",
       "    <tr>\n",
       "      <th>1304</th>\n",
       "      <td>2</td>\n",
       "      <td>Montvila, Rev. Juozas</td>\n",
       "      <td>male</td>\n",
       "      <td>27.0</td>\n",
       "      <td>0</td>\n",
       "      <td>0</td>\n",
       "      <td>13.0000</td>\n",
       "      <td>S</td>\n",
       "      <td>0</td>\n",
       "    </tr>\n",
       "    <tr>\n",
       "      <th>1305</th>\n",
       "      <td>1</td>\n",
       "      <td>Graham, Miss. Margaret Edith</td>\n",
       "      <td>female</td>\n",
       "      <td>19.0</td>\n",
       "      <td>0</td>\n",
       "      <td>0</td>\n",
       "      <td>30.0000</td>\n",
       "      <td>S</td>\n",
       "      <td>1</td>\n",
       "    </tr>\n",
       "    <tr>\n",
       "      <th>1306</th>\n",
       "      <td>3</td>\n",
       "      <td>Johnston, Miss. Catherine Helen \"Carrie\"</td>\n",
       "      <td>female</td>\n",
       "      <td>NaN</td>\n",
       "      <td>1</td>\n",
       "      <td>2</td>\n",
       "      <td>23.4500</td>\n",
       "      <td>S</td>\n",
       "      <td>0</td>\n",
       "    </tr>\n",
       "    <tr>\n",
       "      <th>1307</th>\n",
       "      <td>1</td>\n",
       "      <td>Behr, Mr. Karl Howell</td>\n",
       "      <td>male</td>\n",
       "      <td>26.0</td>\n",
       "      <td>0</td>\n",
       "      <td>0</td>\n",
       "      <td>30.0000</td>\n",
       "      <td>C</td>\n",
       "      <td>1</td>\n",
       "    </tr>\n",
       "    <tr>\n",
       "      <th>1308</th>\n",
       "      <td>3</td>\n",
       "      <td>Dooley, Mr. Patrick</td>\n",
       "      <td>male</td>\n",
       "      <td>32.0</td>\n",
       "      <td>0</td>\n",
       "      <td>0</td>\n",
       "      <td>7.7500</td>\n",
       "      <td>Q</td>\n",
       "      <td>0</td>\n",
       "    </tr>\n",
       "  </tbody>\n",
       "</table>\n",
       "<p>1309 rows × 9 columns</p>\n",
       "</div>"
      ],
      "text/plain": [
       "      Pclass                                          Name     Sex   Age  \\\n",
       "0          3                              Kelly, Mr. James    male  34.5   \n",
       "1          3              Wilkes, Mrs. James (Ellen Needs)  female  47.0   \n",
       "2          2                     Myles, Mr. Thomas Francis    male  62.0   \n",
       "3          3                              Wirz, Mr. Albert    male  27.0   \n",
       "4          3  Hirvonen, Mrs. Alexander (Helga E Lindqvist)  female  22.0   \n",
       "...      ...                                           ...     ...   ...   \n",
       "1304       2                         Montvila, Rev. Juozas    male  27.0   \n",
       "1305       1                  Graham, Miss. Margaret Edith  female  19.0   \n",
       "1306       3      Johnston, Miss. Catherine Helen \"Carrie\"  female   NaN   \n",
       "1307       1                         Behr, Mr. Karl Howell    male  26.0   \n",
       "1308       3                           Dooley, Mr. Patrick    male  32.0   \n",
       "\n",
       "      SibSp  Parch     Fare Embarked Survived  \n",
       "0         0      0   7.8292        Q     test  \n",
       "1         1      0   7.0000        S     test  \n",
       "2         0      0   9.6875        Q     test  \n",
       "3         0      0   8.6625        S     test  \n",
       "4         1      1  12.2875        S     test  \n",
       "...     ...    ...      ...      ...      ...  \n",
       "1304      0      0  13.0000        S        0  \n",
       "1305      0      0  30.0000        S        1  \n",
       "1306      1      2  23.4500        S        0  \n",
       "1307      0      0  30.0000        C        1  \n",
       "1308      0      0   7.7500        Q        0  \n",
       "\n",
       "[1309 rows x 9 columns]"
      ]
     },
     "execution_count": 7,
     "metadata": {},
     "output_type": "execute_result"
    }
   ],
   "source": [
    "df"
   ]
  },
  {
   "cell_type": "code",
   "execution_count": 8,
   "metadata": {
    "execution": {
     "iopub.execute_input": "2020-11-04T12:46:19.980004Z",
     "iopub.status.busy": "2020-11-04T12:46:19.976872Z",
     "iopub.status.idle": "2020-11-04T12:46:20.002987Z",
     "shell.execute_reply": "2020-11-04T12:46:20.002439Z"
    },
    "papermill": {
     "duration": 0.080267,
     "end_time": "2020-11-04T12:46:20.003097",
     "exception": false,
     "start_time": "2020-11-04T12:46:19.922830",
     "status": "completed"
    },
    "tags": []
   },
   "outputs": [
    {
     "name": "stdout",
     "output_type": "stream",
     "text": [
      "<class 'pandas.core.frame.DataFrame'>\n",
      "RangeIndex: 1309 entries, 0 to 1308\n",
      "Data columns (total 9 columns):\n",
      " #   Column    Non-Null Count  Dtype  \n",
      "---  ------    --------------  -----  \n",
      " 0   Pclass    1309 non-null   int64  \n",
      " 1   Name      1309 non-null   object \n",
      " 2   Sex       1309 non-null   object \n",
      " 3   Age       1046 non-null   float64\n",
      " 4   SibSp     1309 non-null   int64  \n",
      " 5   Parch     1309 non-null   int64  \n",
      " 6   Fare      1308 non-null   float64\n",
      " 7   Embarked  1307 non-null   object \n",
      " 8   Survived  1309 non-null   object \n",
      "dtypes: float64(2), int64(3), object(4)\n",
      "memory usage: 92.2+ KB\n",
      "None\n"
     ]
    },
    {
     "data": {
      "text/html": [
       "<div>\n",
       "<style scoped>\n",
       "    .dataframe tbody tr th:only-of-type {\n",
       "        vertical-align: middle;\n",
       "    }\n",
       "\n",
       "    .dataframe tbody tr th {\n",
       "        vertical-align: top;\n",
       "    }\n",
       "\n",
       "    .dataframe thead th {\n",
       "        text-align: right;\n",
       "    }\n",
       "</style>\n",
       "<table border=\"1\" class=\"dataframe\">\n",
       "  <thead>\n",
       "    <tr style=\"text-align: right;\">\n",
       "      <th></th>\n",
       "      <th>Pclass</th>\n",
       "      <th>Age</th>\n",
       "      <th>SibSp</th>\n",
       "      <th>Parch</th>\n",
       "      <th>Fare</th>\n",
       "    </tr>\n",
       "  </thead>\n",
       "  <tbody>\n",
       "    <tr>\n",
       "      <th>count</th>\n",
       "      <td>1309.000000</td>\n",
       "      <td>1046.000000</td>\n",
       "      <td>1309.000000</td>\n",
       "      <td>1309.000000</td>\n",
       "      <td>1308.000000</td>\n",
       "    </tr>\n",
       "    <tr>\n",
       "      <th>mean</th>\n",
       "      <td>2.294882</td>\n",
       "      <td>29.881138</td>\n",
       "      <td>0.498854</td>\n",
       "      <td>0.385027</td>\n",
       "      <td>33.295479</td>\n",
       "    </tr>\n",
       "    <tr>\n",
       "      <th>std</th>\n",
       "      <td>0.837836</td>\n",
       "      <td>14.413493</td>\n",
       "      <td>1.041658</td>\n",
       "      <td>0.865560</td>\n",
       "      <td>51.758668</td>\n",
       "    </tr>\n",
       "    <tr>\n",
       "      <th>min</th>\n",
       "      <td>1.000000</td>\n",
       "      <td>0.170000</td>\n",
       "      <td>0.000000</td>\n",
       "      <td>0.000000</td>\n",
       "      <td>0.000000</td>\n",
       "    </tr>\n",
       "    <tr>\n",
       "      <th>25%</th>\n",
       "      <td>2.000000</td>\n",
       "      <td>21.000000</td>\n",
       "      <td>0.000000</td>\n",
       "      <td>0.000000</td>\n",
       "      <td>7.895800</td>\n",
       "    </tr>\n",
       "    <tr>\n",
       "      <th>50%</th>\n",
       "      <td>3.000000</td>\n",
       "      <td>28.000000</td>\n",
       "      <td>0.000000</td>\n",
       "      <td>0.000000</td>\n",
       "      <td>14.454200</td>\n",
       "    </tr>\n",
       "    <tr>\n",
       "      <th>75%</th>\n",
       "      <td>3.000000</td>\n",
       "      <td>39.000000</td>\n",
       "      <td>1.000000</td>\n",
       "      <td>0.000000</td>\n",
       "      <td>31.275000</td>\n",
       "    </tr>\n",
       "    <tr>\n",
       "      <th>max</th>\n",
       "      <td>3.000000</td>\n",
       "      <td>80.000000</td>\n",
       "      <td>8.000000</td>\n",
       "      <td>9.000000</td>\n",
       "      <td>512.329200</td>\n",
       "    </tr>\n",
       "  </tbody>\n",
       "</table>\n",
       "</div>"
      ],
      "text/plain": [
       "            Pclass          Age        SibSp        Parch         Fare\n",
       "count  1309.000000  1046.000000  1309.000000  1309.000000  1308.000000\n",
       "mean      2.294882    29.881138     0.498854     0.385027    33.295479\n",
       "std       0.837836    14.413493     1.041658     0.865560    51.758668\n",
       "min       1.000000     0.170000     0.000000     0.000000     0.000000\n",
       "25%       2.000000    21.000000     0.000000     0.000000     7.895800\n",
       "50%       3.000000    28.000000     0.000000     0.000000    14.454200\n",
       "75%       3.000000    39.000000     1.000000     0.000000    31.275000\n",
       "max       3.000000    80.000000     8.000000     9.000000   512.329200"
      ]
     },
     "execution_count": 8,
     "metadata": {},
     "output_type": "execute_result"
    }
   ],
   "source": [
    "print(df.info())\n",
    "df.describe()"
   ]
  },
  {
   "cell_type": "markdown",
   "metadata": {
    "papermill": {
     "duration": 0.041606,
     "end_time": "2020-11-04T12:46:20.087401",
     "exception": false,
     "start_time": "2020-11-04T12:46:20.045795",
     "status": "completed"
    },
    "tags": []
   },
   "source": [
    "# Data Cleaning"
   ]
  },
  {
   "cell_type": "markdown",
   "metadata": {
    "papermill": {
     "duration": 0.041534,
     "end_time": "2020-11-04T12:46:20.170607",
     "exception": false,
     "start_time": "2020-11-04T12:46:20.129073",
     "status": "completed"
    },
    "tags": []
   },
   "source": [
    "## Missing Values"
   ]
  },
  {
   "cell_type": "code",
   "execution_count": null,
   "metadata": {
    "papermill": {
     "duration": 0.041159,
     "end_time": "2020-11-04T12:46:20.254081",
     "exception": false,
     "start_time": "2020-11-04T12:46:20.212922",
     "status": "completed"
    },
    "tags": []
   },
   "outputs": [],
   "source": []
  },
  {
   "cell_type": "markdown",
   "metadata": {
    "papermill": {
     "duration": 0.041146,
     "end_time": "2020-11-04T12:46:20.337903",
     "exception": false,
     "start_time": "2020-11-04T12:46:20.296757",
     "status": "completed"
    },
    "tags": []
   },
   "source": [
    "### Age"
   ]
  },
  {
   "cell_type": "code",
   "execution_count": 9,
   "metadata": {
    "execution": {
     "iopub.execute_input": "2020-11-04T12:46:20.429027Z",
     "iopub.status.busy": "2020-11-04T12:46:20.428180Z",
     "iopub.status.idle": "2020-11-04T12:46:20.432549Z",
     "shell.execute_reply": "2020-11-04T12:46:20.432054Z"
    },
    "papermill": {
     "duration": 0.05323,
     "end_time": "2020-11-04T12:46:20.432664",
     "exception": false,
     "start_time": "2020-11-04T12:46:20.379434",
     "status": "completed"
    },
    "tags": []
   },
   "outputs": [
    {
     "data": {
      "text/plain": [
       "['Age', 'Fare', 'Embarked']"
      ]
     },
     "execution_count": 9,
     "metadata": {},
     "output_type": "execute_result"
    }
   ],
   "source": [
    "cols_with_missing = [col for col in df.columns if df[col].isnull().any()] \n",
    "cols_with_missing"
   ]
  },
  {
   "cell_type": "code",
   "execution_count": 10,
   "metadata": {
    "execution": {
     "iopub.execute_input": "2020-11-04T12:46:20.522955Z",
     "iopub.status.busy": "2020-11-04T12:46:20.522279Z",
     "iopub.status.idle": "2020-11-04T12:46:20.672857Z",
     "shell.execute_reply": "2020-11-04T12:46:20.672371Z"
    },
    "papermill": {
     "duration": 0.197314,
     "end_time": "2020-11-04T12:46:20.672973",
     "exception": false,
     "start_time": "2020-11-04T12:46:20.475659",
     "status": "completed"
    },
    "tags": []
   },
   "outputs": [
    {
     "data": {
      "text/plain": [
       "<matplotlib.axes._subplots.AxesSubplot at 0x7eff5db36ad0>"
      ]
     },
     "execution_count": 10,
     "metadata": {},
     "output_type": "execute_result"
    },
    {
     "data": {
      "image/png": "[encoded data removed]",
      "text/plain": [
       "<Figure size 432x288 with 1 Axes>"
      ]
     },
     "metadata": {
      "needs_background": "light"
     },
     "output_type": "display_data"
    }
   ],
   "source": [
    "#Plot Age Outliers\n",
    "sns.boxplot(x=df['Age'])"
   ]
  },
  {
   "cell_type": "code",
   "execution_count": 11,
   "metadata": {
    "execution": {
     "iopub.execute_input": "2020-11-04T12:46:20.764877Z",
     "iopub.status.busy": "2020-11-04T12:46:20.764220Z",
     "iopub.status.idle": "2020-11-04T12:46:20.767207Z",
     "shell.execute_reply": "2020-11-04T12:46:20.766755Z"
    },
    "papermill": {
     "duration": 0.051429,
     "end_time": "2020-11-04T12:46:20.767342",
     "exception": false,
     "start_time": "2020-11-04T12:46:20.715913",
     "status": "completed"
    },
    "tags": []
   },
   "outputs": [],
   "source": [
    "df.Age = df['Age'].fillna(df.Age.median())"
   ]
  },
  {
   "cell_type": "code",
   "execution_count": 12,
   "metadata": {
    "execution": {
     "iopub.execute_input": "2020-11-04T12:46:20.861925Z",
     "iopub.status.busy": "2020-11-04T12:46:20.860969Z",
     "iopub.status.idle": "2020-11-04T12:46:20.864932Z",
     "shell.execute_reply": "2020-11-04T12:46:20.864330Z"
    },
    "papermill": {
     "duration": 0.054387,
     "end_time": "2020-11-04T12:46:20.865040",
     "exception": false,
     "start_time": "2020-11-04T12:46:20.810653",
     "status": "completed"
    },
    "tags": []
   },
   "outputs": [
    {
     "data": {
      "text/plain": [
       "0       34.5\n",
       "1       47.0\n",
       "2       62.0\n",
       "3       27.0\n",
       "4       22.0\n",
       "        ... \n",
       "1304    27.0\n",
       "1305    19.0\n",
       "1306    28.0\n",
       "1307    26.0\n",
       "1308    32.0\n",
       "Name: Age, Length: 1309, dtype: float64"
      ]
     },
     "execution_count": 12,
     "metadata": {},
     "output_type": "execute_result"
    }
   ],
   "source": [
    "df.Age"
   ]
  },
  {
   "cell_type": "code",
   "execution_count": null,
   "metadata": {
    "papermill": {
     "duration": 0.043316,
     "end_time": "2020-11-04T12:46:20.952033",
     "exception": false,
     "start_time": "2020-11-04T12:46:20.908717",
     "status": "completed"
    },
    "tags": []
   },
   "outputs": [],
   "source": []
  },
  {
   "cell_type": "code",
   "execution_count": null,
   "metadata": {
    "papermill": {
     "duration": 0.043517,
     "end_time": "2020-11-04T12:46:21.039403",
     "exception": false,
     "start_time": "2020-11-04T12:46:20.995886",
     "status": "completed"
    },
    "tags": []
   },
   "outputs": [],
   "source": []
  },
  {
   "cell_type": "markdown",
   "metadata": {
    "papermill": {
     "duration": 0.043967,
     "end_time": "2020-11-04T12:46:21.127705",
     "exception": false,
     "start_time": "2020-11-04T12:46:21.083738",
     "status": "completed"
    },
    "tags": []
   },
   "source": [
    "### Gender"
   ]
  },
  {
   "cell_type": "code",
   "execution_count": 13,
   "metadata": {
    "execution": {
     "iopub.execute_input": "2020-11-04T12:46:21.222982Z",
     "iopub.status.busy": "2020-11-04T12:46:21.221880Z",
     "iopub.status.idle": "2020-11-04T12:46:21.225835Z",
     "shell.execute_reply": "2020-11-04T12:46:21.225195Z"
    },
    "papermill": {
     "duration": 0.054242,
     "end_time": "2020-11-04T12:46:21.225947",
     "exception": false,
     "start_time": "2020-11-04T12:46:21.171705",
     "status": "completed"
    },
    "tags": []
   },
   "outputs": [
    {
     "data": {
      "text/plain": [
       "male      843\n",
       "female    466\n",
       "Name: Sex, dtype: int64"
      ]
     },
     "execution_count": 13,
     "metadata": {},
     "output_type": "execute_result"
    }
   ],
   "source": [
    "df.Sex.value_counts()"
   ]
  },
  {
   "cell_type": "code",
   "execution_count": 14,
   "metadata": {
    "execution": {
     "iopub.execute_input": "2020-11-04T12:46:21.321698Z",
     "iopub.status.busy": "2020-11-04T12:46:21.320873Z",
     "iopub.status.idle": "2020-11-04T12:46:21.466108Z",
     "shell.execute_reply": "2020-11-04T12:46:21.465487Z"
    },
    "papermill": {
     "duration": 0.196447,
     "end_time": "2020-11-04T12:46:21.466221",
     "exception": false,
     "start_time": "2020-11-04T12:46:21.269774",
     "status": "completed"
    },
    "tags": []
   },
   "outputs": [
    {
     "data": {
      "text/html": [
       "<div>\n",
       "<style scoped>\n",
       "    .dataframe tbody tr th:only-of-type {\n",
       "        vertical-align: middle;\n",
       "    }\n",
       "\n",
       "    .dataframe tbody tr th {\n",
       "        vertical-align: top;\n",
       "    }\n",
       "\n",
       "    .dataframe thead th {\n",
       "        text-align: right;\n",
       "    }\n",
       "</style>\n",
       "<table border=\"1\" class=\"dataframe\">\n",
       "  <thead>\n",
       "    <tr style=\"text-align: right;\">\n",
       "      <th></th>\n",
       "      <th>Sex</th>\n",
       "      <th>Survived</th>\n",
       "    </tr>\n",
       "  </thead>\n",
       "  <tbody>\n",
       "    <tr>\n",
       "      <th>0</th>\n",
       "      <td>female</td>\n",
       "      <td>0.742038</td>\n",
       "    </tr>\n",
       "    <tr>\n",
       "      <th>1</th>\n",
       "      <td>male</td>\n",
       "      <td>0.188908</td>\n",
       "    </tr>\n",
       "  </tbody>\n",
       "</table>\n",
       "</div>"
      ],
      "text/plain": [
       "      Sex  Survived\n",
       "0  female  0.742038\n",
       "1    male  0.188908"
      ]
     },
     "execution_count": 14,
     "metadata": {},
     "output_type": "execute_result"
    },
    {
     "data": {
      "image/png": "[encoded data removed]",
      "text/plain": [
       "<Figure size 432x288 with 1 Axes>"
      ]
     },
     "metadata": {
      "needs_background": "light"
     },
     "output_type": "display_data"
    }
   ],
   "source": [
    "df.Sex.hist()\n",
    "train_data[[\"Sex\", \"Survived\"]].groupby(['Sex'], as_index=False).mean().sort_values(by='Survived', ascending=False)"
   ]
  },
  {
   "cell_type": "code",
   "execution_count": null,
   "metadata": {
    "papermill": {
     "duration": 0.04495,
     "end_time": "2020-11-04T12:46:21.556873",
     "exception": false,
     "start_time": "2020-11-04T12:46:21.511923",
     "status": "completed"
    },
    "tags": []
   },
   "outputs": [],
   "source": []
  },
  {
   "cell_type": "code",
   "execution_count": null,
   "metadata": {
    "papermill": {
     "duration": 0.045689,
     "end_time": "2020-11-04T12:46:21.648386",
     "exception": false,
     "start_time": "2020-11-04T12:46:21.602697",
     "status": "completed"
    },
    "tags": []
   },
   "outputs": [],
   "source": []
  },
  {
   "cell_type": "markdown",
   "metadata": {
    "papermill": {
     "duration": 0.044278,
     "end_time": "2020-11-04T12:46:21.737049",
     "exception": false,
     "start_time": "2020-11-04T12:46:21.692771",
     "status": "completed"
    },
    "tags": []
   },
   "source": [
    "### Embarked"
   ]
  },
  {
   "cell_type": "code",
   "execution_count": 15,
   "metadata": {
    "execution": {
     "iopub.execute_input": "2020-11-04T12:46:21.832546Z",
     "iopub.status.busy": "2020-11-04T12:46:21.831896Z",
     "iopub.status.idle": "2020-11-04T12:46:21.834550Z",
     "shell.execute_reply": "2020-11-04T12:46:21.834056Z"
    },
    "papermill": {
     "duration": 0.053157,
     "end_time": "2020-11-04T12:46:21.834658",
     "exception": false,
     "start_time": "2020-11-04T12:46:21.781501",
     "status": "completed"
    },
    "tags": []
   },
   "outputs": [],
   "source": [
    "df['Embarked'].fillna(df['Embarked'].mode()[0], inplace = True)"
   ]
  },
  {
   "cell_type": "markdown",
   "metadata": {
    "papermill": {
     "duration": 0.044421,
     "end_time": "2020-11-04T12:46:21.923940",
     "exception": false,
     "start_time": "2020-11-04T12:46:21.879519",
     "status": "completed"
    },
    "tags": []
   },
   "source": [
    "### Fare"
   ]
  },
  {
   "cell_type": "code",
   "execution_count": 16,
   "metadata": {
    "execution": {
     "iopub.execute_input": "2020-11-04T12:46:22.019076Z",
     "iopub.status.busy": "2020-11-04T12:46:22.018485Z",
     "iopub.status.idle": "2020-11-04T12:46:22.021133Z",
     "shell.execute_reply": "2020-11-04T12:46:22.020561Z"
    },
    "papermill": {
     "duration": 0.052558,
     "end_time": "2020-11-04T12:46:22.021237",
     "exception": false,
     "start_time": "2020-11-04T12:46:21.968679",
     "status": "completed"
    },
    "tags": []
   },
   "outputs": [],
   "source": [
    "    #complete missing fare with median\n",
    "df['Fare'].fillna(df['Fare'].median(), inplace = True)"
   ]
  },
  {
   "cell_type": "code",
   "execution_count": 17,
   "metadata": {
    "execution": {
     "iopub.execute_input": "2020-11-04T12:46:22.123773Z",
     "iopub.status.busy": "2020-11-04T12:46:22.122954Z",
     "iopub.status.idle": "2020-11-04T12:46:22.126997Z",
     "shell.execute_reply": "2020-11-04T12:46:22.126397Z"
    },
    "papermill": {
     "duration": 0.057147,
     "end_time": "2020-11-04T12:46:22.127101",
     "exception": false,
     "start_time": "2020-11-04T12:46:22.069954",
     "status": "completed"
    },
    "tags": []
   },
   "outputs": [
    {
     "data": {
      "text/plain": [
       "Pclass      False\n",
       "Name        False\n",
       "Sex         False\n",
       "Age         False\n",
       "SibSp       False\n",
       "Parch       False\n",
       "Fare        False\n",
       "Embarked    False\n",
       "Survived    False\n",
       "dtype: bool"
      ]
     },
     "execution_count": 17,
     "metadata": {},
     "output_type": "execute_result"
    }
   ],
   "source": [
    "df.isnull().any()"
   ]
  },
  {
   "cell_type": "markdown",
   "metadata": {
    "papermill": {
     "duration": 0.045486,
     "end_time": "2020-11-04T12:46:22.218195",
     "exception": false,
     "start_time": "2020-11-04T12:46:22.172709",
     "status": "completed"
    },
    "tags": []
   },
   "source": [
    "# Feature Engineering"
   ]
  },
  {
   "cell_type": "code",
   "execution_count": 18,
   "metadata": {
    "execution": {
     "iopub.execute_input": "2020-11-04T12:46:22.334633Z",
     "iopub.status.busy": "2020-11-04T12:46:22.333697Z",
     "iopub.status.idle": "2020-11-04T12:46:22.337679Z",
     "shell.execute_reply": "2020-11-04T12:46:22.337060Z"
    },
    "papermill": {
     "duration": 0.073519,
     "end_time": "2020-11-04T12:46:22.337793",
     "exception": false,
     "start_time": "2020-11-04T12:46:22.264274",
     "status": "completed"
    },
    "tags": []
   },
   "outputs": [
    {
     "data": {
      "text/html": [
       "<div>\n",
       "<style scoped>\n",
       "    .dataframe tbody tr th:only-of-type {\n",
       "        vertical-align: middle;\n",
       "    }\n",
       "\n",
       "    .dataframe tbody tr th {\n",
       "        vertical-align: top;\n",
       "    }\n",
       "\n",
       "    .dataframe thead th {\n",
       "        text-align: right;\n",
       "    }\n",
       "</style>\n",
       "<table border=\"1\" class=\"dataframe\">\n",
       "  <thead>\n",
       "    <tr style=\"text-align: right;\">\n",
       "      <th></th>\n",
       "      <th>Pclass</th>\n",
       "      <th>Name</th>\n",
       "      <th>Sex</th>\n",
       "      <th>Age</th>\n",
       "      <th>SibSp</th>\n",
       "      <th>Parch</th>\n",
       "      <th>Fare</th>\n",
       "      <th>Embarked</th>\n",
       "      <th>Survived</th>\n",
       "    </tr>\n",
       "  </thead>\n",
       "  <tbody>\n",
       "    <tr>\n",
       "      <th>0</th>\n",
       "      <td>3</td>\n",
       "      <td>Kelly, Mr. James</td>\n",
       "      <td>male</td>\n",
       "      <td>34.5</td>\n",
       "      <td>0</td>\n",
       "      <td>0</td>\n",
       "      <td>7.8292</td>\n",
       "      <td>Q</td>\n",
       "      <td>test</td>\n",
       "    </tr>\n",
       "    <tr>\n",
       "      <th>1</th>\n",
       "      <td>3</td>\n",
       "      <td>Wilkes, Mrs. James (Ellen Needs)</td>\n",
       "      <td>female</td>\n",
       "      <td>47.0</td>\n",
       "      <td>1</td>\n",
       "      <td>0</td>\n",
       "      <td>7.0000</td>\n",
       "      <td>S</td>\n",
       "      <td>test</td>\n",
       "    </tr>\n",
       "    <tr>\n",
       "      <th>2</th>\n",
       "      <td>2</td>\n",
       "      <td>Myles, Mr. Thomas Francis</td>\n",
       "      <td>male</td>\n",
       "      <td>62.0</td>\n",
       "      <td>0</td>\n",
       "      <td>0</td>\n",
       "      <td>9.6875</td>\n",
       "      <td>Q</td>\n",
       "      <td>test</td>\n",
       "    </tr>\n",
       "    <tr>\n",
       "      <th>3</th>\n",
       "      <td>3</td>\n",
       "      <td>Wirz, Mr. Albert</td>\n",
       "      <td>male</td>\n",
       "      <td>27.0</td>\n",
       "      <td>0</td>\n",
       "      <td>0</td>\n",
       "      <td>8.6625</td>\n",
       "      <td>S</td>\n",
       "      <td>test</td>\n",
       "    </tr>\n",
       "    <tr>\n",
       "      <th>4</th>\n",
       "      <td>3</td>\n",
       "      <td>Hirvonen, Mrs. Alexander (Helga E Lindqvist)</td>\n",
       "      <td>female</td>\n",
       "      <td>22.0</td>\n",
       "      <td>1</td>\n",
       "      <td>1</td>\n",
       "      <td>12.2875</td>\n",
       "      <td>S</td>\n",
       "      <td>test</td>\n",
       "    </tr>\n",
       "    <tr>\n",
       "      <th>...</th>\n",
       "      <td>...</td>\n",
       "      <td>...</td>\n",
       "      <td>...</td>\n",
       "      <td>...</td>\n",
       "      <td>...</td>\n",
       "      <td>...</td>\n",
       "      <td>...</td>\n",
       "      <td>...</td>\n",
       "      <td>...</td>\n",
       "    </tr>\n",
       "    <tr>\n",
       "      <th>1304</th>\n",
       "      <td>2</td>\n",
       "      <td>Montvila, Rev. Juozas</td>\n",
       "      <td>male</td>\n",
       "      <td>27.0</td>\n",
       "      <td>0</td>\n",
       "      <td>0</td>\n",
       "      <td>13.0000</td>\n",
       "      <td>S</td>\n",
       "      <td>0</td>\n",
       "    </tr>\n",
       "    <tr>\n",
       "      <th>1305</th>\n",
       "      <td>1</td>\n",
       "      <td>Graham, Miss. Margaret Edith</td>\n",
       "      <td>female</td>\n",
       "      <td>19.0</td>\n",
       "      <td>0</td>\n",
       "      <td>0</td>\n",
       "      <td>30.0000</td>\n",
       "      <td>S</td>\n",
       "      <td>1</td>\n",
       "    </tr>\n",
       "    <tr>\n",
       "      <th>1306</th>\n",
       "      <td>3</td>\n",
       "      <td>Johnston, Miss. Catherine Helen \"Carrie\"</td>\n",
       "      <td>female</td>\n",
       "      <td>28.0</td>\n",
       "      <td>1</td>\n",
       "      <td>2</td>\n",
       "      <td>23.4500</td>\n",
       "      <td>S</td>\n",
       "      <td>0</td>\n",
       "    </tr>\n",
       "    <tr>\n",
       "      <th>1307</th>\n",
       "      <td>1</td>\n",
       "      <td>Behr, Mr. Karl Howell</td>\n",
       "      <td>male</td>\n",
       "      <td>26.0</td>\n",
       "      <td>0</td>\n",
       "      <td>0</td>\n",
       "      <td>30.0000</td>\n",
       "      <td>C</td>\n",
       "      <td>1</td>\n",
       "    </tr>\n",
       "    <tr>\n",
       "      <th>1308</th>\n",
       "      <td>3</td>\n",
       "      <td>Dooley, Mr. Patrick</td>\n",
       "      <td>male</td>\n",
       "      <td>32.0</td>\n",
       "      <td>0</td>\n",
       "      <td>0</td>\n",
       "      <td>7.7500</td>\n",
       "      <td>Q</td>\n",
       "      <td>0</td>\n",
       "    </tr>\n",
       "  </tbody>\n",
       "</table>\n",
       "<p>1309 rows × 9 columns</p>\n",
       "</div>"
      ],
      "text/plain": [
       "      Pclass                                          Name     Sex   Age  \\\n",
       "0          3                              Kelly, Mr. James    male  34.5   \n",
       "1          3              Wilkes, Mrs. James (Ellen Needs)  female  47.0   \n",
       "2          2                     Myles, Mr. Thomas Francis    male  62.0   \n",
       "3          3                              Wirz, Mr. Albert    male  27.0   \n",
       "4          3  Hirvonen, Mrs. Alexander (Helga E Lindqvist)  female  22.0   \n",
       "...      ...                                           ...     ...   ...   \n",
       "1304       2                         Montvila, Rev. Juozas    male  27.0   \n",
       "1305       1                  Graham, Miss. Margaret Edith  female  19.0   \n",
       "1306       3      Johnston, Miss. Catherine Helen \"Carrie\"  female  28.0   \n",
       "1307       1                         Behr, Mr. Karl Howell    male  26.0   \n",
       "1308       3                           Dooley, Mr. Patrick    male  32.0   \n",
       "\n",
       "      SibSp  Parch     Fare Embarked Survived  \n",
       "0         0      0   7.8292        Q     test  \n",
       "1         1      0   7.0000        S     test  \n",
       "2         0      0   9.6875        Q     test  \n",
       "3         0      0   8.6625        S     test  \n",
       "4         1      1  12.2875        S     test  \n",
       "...     ...    ...      ...      ...      ...  \n",
       "1304      0      0  13.0000        S        0  \n",
       "1305      0      0  30.0000        S        1  \n",
       "1306      1      2  23.4500        S        0  \n",
       "1307      0      0  30.0000        C        1  \n",
       "1308      0      0   7.7500        Q        0  \n",
       "\n",
       "[1309 rows x 9 columns]"
      ]
     },
     "execution_count": 18,
     "metadata": {},
     "output_type": "execute_result"
    }
   ],
   "source": [
    "df"
   ]
  },
  {
   "cell_type": "code",
   "execution_count": null,
   "metadata": {
    "papermill": {
     "duration": 0.047719,
     "end_time": "2020-11-04T12:46:22.433485",
     "exception": false,
     "start_time": "2020-11-04T12:46:22.385766",
     "status": "completed"
    },
    "tags": []
   },
   "outputs": [],
   "source": []
  },
  {
   "cell_type": "code",
   "execution_count": 19,
   "metadata": {
    "execution": {
     "iopub.execute_input": "2020-11-04T12:46:22.535210Z",
     "iopub.status.busy": "2020-11-04T12:46:22.534586Z",
     "iopub.status.idle": "2020-11-04T12:46:22.570019Z",
     "shell.execute_reply": "2020-11-04T12:46:22.571505Z"
    },
    "papermill": {
     "duration": 0.090381,
     "end_time": "2020-11-04T12:46:22.571661",
     "exception": false,
     "start_time": "2020-11-04T12:46:22.481280",
     "status": "completed"
    },
    "tags": []
   },
   "outputs": [
    {
     "name": "stderr",
     "output_type": "stream",
     "text": [
      "/opt/conda/lib/python3.7/site-packages/pandas/core/indexing.py:670: SettingWithCopyWarning: \n",
      "A value is trying to be set on a copy of a slice from a DataFrame\n",
      "\n",
      "See the caveats in the documentation: https://pandas.pydata.org/pandas-docs/stable/user_guide/indexing.html#returning-a-view-versus-a-copy\n",
      "  iloc._setitem_with_indexer(indexer, value)\n"
     ]
    }
   ],
   "source": [
    "df['FamilySize'] = df['SibSp'] + df['Parch'] + 1\n",
    "\n",
    "df['IsAlone'] = 1 #initialize to yes/1 is alone\n",
    "df['IsAlone'].loc[df['FamilySize'] > 1] = 0 # now update to no/0 if family size is greater than 1\n",
    "\n",
    "    #quick and dirty code split title from name: http://www.pythonforbeginners.com/dictionary/python-split\n",
    "df['Title'] = df['Name'].str.split(\", \", expand=True)[1].str.split(\".\", expand=True)[0]"
   ]
  },
  {
   "cell_type": "code",
   "execution_count": null,
   "metadata": {
    "papermill": {
     "duration": 0.046172,
     "end_time": "2020-11-04T12:46:22.664883",
     "exception": false,
     "start_time": "2020-11-04T12:46:22.618711",
     "status": "completed"
    },
    "tags": []
   },
   "outputs": [],
   "source": []
  },
  {
   "cell_type": "code",
   "execution_count": 20,
   "metadata": {
    "execution": {
     "iopub.execute_input": "2020-11-04T12:46:22.771039Z",
     "iopub.status.busy": "2020-11-04T12:46:22.763640Z",
     "iopub.status.idle": "2020-11-04T12:46:22.776854Z",
     "shell.execute_reply": "2020-11-04T12:46:22.776204Z"
    },
    "papermill": {
     "duration": 0.06545,
     "end_time": "2020-11-04T12:46:22.776965",
     "exception": false,
     "start_time": "2020-11-04T12:46:22.711515",
     "status": "completed"
    },
    "tags": []
   },
   "outputs": [],
   "source": [
    "df['FareBin'] = pd.qcut(df['Fare'], 4)\n",
    "\n",
    "    #Age Bins/Buckets using cut or value bins: https://pandas.pydata.org/pandas-docs/stable/generated/pandas.cut.html\n",
    "df['AgeBin'] = pd.cut(df['Age'].astype(int), 5)"
   ]
  },
  {
   "cell_type": "code",
   "execution_count": 21,
   "metadata": {
    "execution": {
     "iopub.execute_input": "2020-11-04T12:46:22.943818Z",
     "iopub.status.busy": "2020-11-04T12:46:22.943123Z",
     "iopub.status.idle": "2020-11-04T12:46:22.947003Z",
     "shell.execute_reply": "2020-11-04T12:46:22.945875Z"
    },
    "papermill": {
     "duration": 0.079306,
     "end_time": "2020-11-04T12:46:22.947156",
     "exception": false,
     "start_time": "2020-11-04T12:46:22.867850",
     "status": "completed"
    },
    "tags": []
   },
   "outputs": [
    {
     "name": "stdout",
     "output_type": "stream",
     "text": [
      "Mr        757\n",
      "Miss      260\n",
      "Mrs       197\n",
      "Master     61\n",
      "Misc       34\n",
      "Name: Title, dtype: int64\n",
      "----------\n"
     ]
    }
   ],
   "source": [
    "stat_min = 10 #while small is arbitrary, we'll use the common minimum in statistics: http://nicholasjjackson.com/2012/03/08/sample-size-is-10-a-magic-number/\n",
    "title_names = (df['Title'].value_counts() < stat_min) #this will create a true false series with title name as index\n",
    "\n",
    "#apply and lambda functions are quick and dirty code to find and replace with fewer lines of code: https://community.modeanalytics.com/python/tutorial/pandas-groupby-and-python-lambda-functions/\n",
    "df['Title'] = df['Title'].apply(lambda x: 'Misc' if title_names.loc[x] == True else x)\n",
    "print(df['Title'].value_counts())\n",
    "print(\"-\"*10)"
   ]
  },
  {
   "cell_type": "code",
   "execution_count": 22,
   "metadata": {
    "execution": {
     "iopub.execute_input": "2020-11-04T12:46:23.065653Z",
     "iopub.status.busy": "2020-11-04T12:46:23.063890Z",
     "iopub.status.idle": "2020-11-04T12:46:23.082986Z",
     "shell.execute_reply": "2020-11-04T12:46:23.082314Z"
    },
    "papermill": {
     "duration": 0.08867,
     "end_time": "2020-11-04T12:46:23.083120",
     "exception": false,
     "start_time": "2020-11-04T12:46:22.994450",
     "status": "completed"
    },
    "tags": []
   },
   "outputs": [
    {
     "name": "stdout",
     "output_type": "stream",
     "text": [
      "<class 'pandas.core.frame.DataFrame'>\n",
      "RangeIndex: 1309 entries, 0 to 1308\n",
      "Data columns (total 14 columns):\n",
      " #   Column      Non-Null Count  Dtype   \n",
      "---  ------      --------------  -----   \n",
      " 0   Pclass      1309 non-null   int64   \n",
      " 1   Name        1309 non-null   object  \n",
      " 2   Sex         1309 non-null   object  \n",
      " 3   Age         1309 non-null   float64 \n",
      " 4   SibSp       1309 non-null   int64   \n",
      " 5   Parch       1309 non-null   int64   \n",
      " 6   Fare        1309 non-null   float64 \n",
      " 7   Embarked    1309 non-null   object  \n",
      " 8   Survived    1309 non-null   object  \n",
      " 9   FamilySize  1309 non-null   int64   \n",
      " 10  IsAlone     1309 non-null   int64   \n",
      " 11  Title       1309 non-null   object  \n",
      " 12  FareBin     1309 non-null   category\n",
      " 13  AgeBin      1309 non-null   category\n",
      "dtypes: category(2), float64(2), int64(5), object(5)\n",
      "memory usage: 125.9+ KB\n"
     ]
    },
    {
     "data": {
      "text/html": [
       "<div>\n",
       "<style scoped>\n",
       "    .dataframe tbody tr th:only-of-type {\n",
       "        vertical-align: middle;\n",
       "    }\n",
       "\n",
       "    .dataframe tbody tr th {\n",
       "        vertical-align: top;\n",
       "    }\n",
       "\n",
       "    .dataframe thead th {\n",
       "        text-align: right;\n",
       "    }\n",
       "</style>\n",
       "<table border=\"1\" class=\"dataframe\">\n",
       "  <thead>\n",
       "    <tr style=\"text-align: right;\">\n",
       "      <th></th>\n",
       "      <th>Pclass</th>\n",
       "      <th>Name</th>\n",
       "      <th>Sex</th>\n",
       "      <th>Age</th>\n",
       "      <th>SibSp</th>\n",
       "      <th>Parch</th>\n",
       "      <th>Fare</th>\n",
       "      <th>Embarked</th>\n",
       "      <th>Survived</th>\n",
       "      <th>FamilySize</th>\n",
       "      <th>IsAlone</th>\n",
       "      <th>Title</th>\n",
       "      <th>FareBin</th>\n",
       "      <th>AgeBin</th>\n",
       "    </tr>\n",
       "  </thead>\n",
       "  <tbody>\n",
       "    <tr>\n",
       "      <th>1089</th>\n",
       "      <td>1</td>\n",
       "      <td>Davidson, Mr. Thornton</td>\n",
       "      <td>male</td>\n",
       "      <td>31.0</td>\n",
       "      <td>1</td>\n",
       "      <td>0</td>\n",
       "      <td>52.0000</td>\n",
       "      <td>S</td>\n",
       "      <td>0</td>\n",
       "      <td>2</td>\n",
       "      <td>0</td>\n",
       "      <td>Mr</td>\n",
       "      <td>(31.275, 512.329]</td>\n",
       "      <td>(16.0, 32.0]</td>\n",
       "    </tr>\n",
       "    <tr>\n",
       "      <th>392</th>\n",
       "      <td>3</td>\n",
       "      <td>Abbott, Master. Eugene Joseph</td>\n",
       "      <td>male</td>\n",
       "      <td>13.0</td>\n",
       "      <td>0</td>\n",
       "      <td>2</td>\n",
       "      <td>20.2500</td>\n",
       "      <td>S</td>\n",
       "      <td>test</td>\n",
       "      <td>3</td>\n",
       "      <td>0</td>\n",
       "      <td>Master</td>\n",
       "      <td>(14.454, 31.275]</td>\n",
       "      <td>(-0.08, 16.0]</td>\n",
       "    </tr>\n",
       "    <tr>\n",
       "      <th>1078</th>\n",
       "      <td>1</td>\n",
       "      <td>Frauenthal, Dr. Henry William</td>\n",
       "      <td>male</td>\n",
       "      <td>50.0</td>\n",
       "      <td>2</td>\n",
       "      <td>0</td>\n",
       "      <td>133.6500</td>\n",
       "      <td>S</td>\n",
       "      <td>1</td>\n",
       "      <td>3</td>\n",
       "      <td>0</td>\n",
       "      <td>Misc</td>\n",
       "      <td>(31.275, 512.329]</td>\n",
       "      <td>(48.0, 64.0]</td>\n",
       "    </tr>\n",
       "    <tr>\n",
       "      <th>163</th>\n",
       "      <td>3</td>\n",
       "      <td>Pearce, Mr. Ernest</td>\n",
       "      <td>male</td>\n",
       "      <td>28.0</td>\n",
       "      <td>0</td>\n",
       "      <td>0</td>\n",
       "      <td>7.0000</td>\n",
       "      <td>S</td>\n",
       "      <td>test</td>\n",
       "      <td>1</td>\n",
       "      <td>1</td>\n",
       "      <td>Mr</td>\n",
       "      <td>(-0.001, 7.896]</td>\n",
       "      <td>(16.0, 32.0]</td>\n",
       "    </tr>\n",
       "    <tr>\n",
       "      <th>896</th>\n",
       "      <td>3</td>\n",
       "      <td>Karlsson, Mr. Nils August</td>\n",
       "      <td>male</td>\n",
       "      <td>22.0</td>\n",
       "      <td>0</td>\n",
       "      <td>0</td>\n",
       "      <td>7.5208</td>\n",
       "      <td>S</td>\n",
       "      <td>0</td>\n",
       "      <td>1</td>\n",
       "      <td>1</td>\n",
       "      <td>Mr</td>\n",
       "      <td>(-0.001, 7.896]</td>\n",
       "      <td>(16.0, 32.0]</td>\n",
       "    </tr>\n",
       "    <tr>\n",
       "      <th>732</th>\n",
       "      <td>2</td>\n",
       "      <td>Hart, Mr. Benjamin</td>\n",
       "      <td>male</td>\n",
       "      <td>43.0</td>\n",
       "      <td>1</td>\n",
       "      <td>1</td>\n",
       "      <td>26.2500</td>\n",
       "      <td>S</td>\n",
       "      <td>0</td>\n",
       "      <td>3</td>\n",
       "      <td>0</td>\n",
       "      <td>Mr</td>\n",
       "      <td>(14.454, 31.275]</td>\n",
       "      <td>(32.0, 48.0]</td>\n",
       "    </tr>\n",
       "    <tr>\n",
       "      <th>286</th>\n",
       "      <td>3</td>\n",
       "      <td>Franklin, Mr. Charles (Charles Fardon)</td>\n",
       "      <td>male</td>\n",
       "      <td>28.0</td>\n",
       "      <td>0</td>\n",
       "      <td>0</td>\n",
       "      <td>7.2500</td>\n",
       "      <td>S</td>\n",
       "      <td>test</td>\n",
       "      <td>1</td>\n",
       "      <td>1</td>\n",
       "      <td>Mr</td>\n",
       "      <td>(-0.001, 7.896]</td>\n",
       "      <td>(16.0, 32.0]</td>\n",
       "    </tr>\n",
       "    <tr>\n",
       "      <th>182</th>\n",
       "      <td>1</td>\n",
       "      <td>Marvin, Mrs. Daniel Warner (Mary Graham Carmic...</td>\n",
       "      <td>female</td>\n",
       "      <td>18.0</td>\n",
       "      <td>1</td>\n",
       "      <td>0</td>\n",
       "      <td>53.1000</td>\n",
       "      <td>S</td>\n",
       "      <td>test</td>\n",
       "      <td>2</td>\n",
       "      <td>0</td>\n",
       "      <td>Mrs</td>\n",
       "      <td>(31.275, 512.329]</td>\n",
       "      <td>(16.0, 32.0]</td>\n",
       "    </tr>\n",
       "    <tr>\n",
       "      <th>985</th>\n",
       "      <td>3</td>\n",
       "      <td>Palsson, Mrs. Nils (Alma Cornelia Berglund)</td>\n",
       "      <td>female</td>\n",
       "      <td>29.0</td>\n",
       "      <td>0</td>\n",
       "      <td>4</td>\n",
       "      <td>21.0750</td>\n",
       "      <td>S</td>\n",
       "      <td>0</td>\n",
       "      <td>5</td>\n",
       "      <td>0</td>\n",
       "      <td>Mrs</td>\n",
       "      <td>(14.454, 31.275]</td>\n",
       "      <td>(16.0, 32.0]</td>\n",
       "    </tr>\n",
       "    <tr>\n",
       "      <th>1106</th>\n",
       "      <td>3</td>\n",
       "      <td>Fischer, Mr. Eberhard Thelander</td>\n",
       "      <td>male</td>\n",
       "      <td>18.0</td>\n",
       "      <td>0</td>\n",
       "      <td>0</td>\n",
       "      <td>7.7958</td>\n",
       "      <td>S</td>\n",
       "      <td>0</td>\n",
       "      <td>1</td>\n",
       "      <td>1</td>\n",
       "      <td>Mr</td>\n",
       "      <td>(-0.001, 7.896]</td>\n",
       "      <td>(16.0, 32.0]</td>\n",
       "    </tr>\n",
       "  </tbody>\n",
       "</table>\n",
       "</div>"
      ],
      "text/plain": [
       "      Pclass                                               Name     Sex   Age  \\\n",
       "1089       1                             Davidson, Mr. Thornton    male  31.0   \n",
       "392        3                      Abbott, Master. Eugene Joseph    male  13.0   \n",
       "1078       1                      Frauenthal, Dr. Henry William    male  50.0   \n",
       "163        3                                 Pearce, Mr. Ernest    male  28.0   \n",
       "896        3                          Karlsson, Mr. Nils August    male  22.0   \n",
       "732        2                                 Hart, Mr. Benjamin    male  43.0   \n",
       "286        3             Franklin, Mr. Charles (Charles Fardon)    male  28.0   \n",
       "182        1  Marvin, Mrs. Daniel Warner (Mary Graham Carmic...  female  18.0   \n",
       "985        3        Palsson, Mrs. Nils (Alma Cornelia Berglund)  female  29.0   \n",
       "1106       3                    Fischer, Mr. Eberhard Thelander    male  18.0   \n",
       "\n",
       "      SibSp  Parch      Fare Embarked Survived  FamilySize  IsAlone   Title  \\\n",
       "1089      1      0   52.0000        S        0           2        0      Mr   \n",
       "392       0      2   20.2500        S     test           3        0  Master   \n",
       "1078      2      0  133.6500        S        1           3        0    Misc   \n",
       "163       0      0    7.0000        S     test           1        1      Mr   \n",
       "896       0      0    7.5208        S        0           1        1      Mr   \n",
       "732       1      1   26.2500        S        0           3        0      Mr   \n",
       "286       0      0    7.2500        S     test           1        1      Mr   \n",
       "182       1      0   53.1000        S     test           2        0     Mrs   \n",
       "985       0      4   21.0750        S        0           5        0     Mrs   \n",
       "1106      0      0    7.7958        S        0           1        1      Mr   \n",
       "\n",
       "                FareBin         AgeBin  \n",
       "1089  (31.275, 512.329]   (16.0, 32.0]  \n",
       "392    (14.454, 31.275]  (-0.08, 16.0]  \n",
       "1078  (31.275, 512.329]   (48.0, 64.0]  \n",
       "163     (-0.001, 7.896]   (16.0, 32.0]  \n",
       "896     (-0.001, 7.896]   (16.0, 32.0]  \n",
       "732    (14.454, 31.275]   (32.0, 48.0]  \n",
       "286     (-0.001, 7.896]   (16.0, 32.0]  \n",
       "182   (31.275, 512.329]   (16.0, 32.0]  \n",
       "985    (14.454, 31.275]   (16.0, 32.0]  \n",
       "1106    (-0.001, 7.896]   (16.0, 32.0]  "
      ]
     },
     "execution_count": 22,
     "metadata": {},
     "output_type": "execute_result"
    }
   ],
   "source": [
    "#preview data again\n",
    "df.info()\n",
    "df.sample(10)"
   ]
  },
  {
   "cell_type": "markdown",
   "metadata": {
    "papermill": {
     "duration": 0.048309,
     "end_time": "2020-11-04T12:46:23.180142",
     "exception": false,
     "start_time": "2020-11-04T12:46:23.131833",
     "status": "completed"
    },
    "tags": []
   },
   "source": [
    "# Imputation and Encoding"
   ]
  },
  {
   "cell_type": "code",
   "execution_count": 23,
   "metadata": {
    "execution": {
     "iopub.execute_input": "2020-11-04T12:46:23.284752Z",
     "iopub.status.busy": "2020-11-04T12:46:23.284048Z",
     "iopub.status.idle": "2020-11-04T12:46:23.367614Z",
     "shell.execute_reply": "2020-11-04T12:46:23.366564Z"
    },
    "papermill": {
     "duration": 0.138568,
     "end_time": "2020-11-04T12:46:23.367820",
     "exception": false,
     "start_time": "2020-11-04T12:46:23.229252",
     "status": "completed"
    },
    "tags": []
   },
   "outputs": [],
   "source": [
    "from sklearn.preprocessing import LabelEncoder\n",
    "label = LabelEncoder()\n",
    "  \n",
    "df['Sex_Code'] = label.fit_transform(df['Sex'])\n",
    "df['Embarked_Code'] = label.fit_transform(df['Embarked'])\n",
    "df['Title_Code'] = label.fit_transform(df['Title'])\n",
    "df['AgeBin_Code'] = label.fit_transform(df['AgeBin'])\n",
    "df['FareBin_Code'] = label.fit_transform(df['FareBin'])\n"
   ]
  },
  {
   "cell_type": "code",
   "execution_count": null,
   "metadata": {
    "papermill": {
     "duration": 0.060313,
     "end_time": "2020-11-04T12:46:23.502841",
     "exception": false,
     "start_time": "2020-11-04T12:46:23.442528",
     "status": "completed"
    },
    "tags": []
   },
   "outputs": [],
   "source": []
  },
  {
   "cell_type": "code",
   "execution_count": 24,
   "metadata": {
    "execution": {
     "iopub.execute_input": "2020-11-04T12:46:23.636508Z",
     "iopub.status.busy": "2020-11-04T12:46:23.607027Z",
     "iopub.status.idle": "2020-11-04T12:46:23.652273Z",
     "shell.execute_reply": "2020-11-04T12:46:23.651765Z"
    },
    "papermill": {
     "duration": 0.099981,
     "end_time": "2020-11-04T12:46:23.652415",
     "exception": false,
     "start_time": "2020-11-04T12:46:23.552434",
     "status": "completed"
    },
    "tags": []
   },
   "outputs": [
    {
     "data": {
      "text/html": [
       "<div>\n",
       "<style scoped>\n",
       "    .dataframe tbody tr th:only-of-type {\n",
       "        vertical-align: middle;\n",
       "    }\n",
       "\n",
       "    .dataframe tbody tr th {\n",
       "        vertical-align: top;\n",
       "    }\n",
       "\n",
       "    .dataframe thead th {\n",
       "        text-align: right;\n",
       "    }\n",
       "</style>\n",
       "<table border=\"1\" class=\"dataframe\">\n",
       "  <thead>\n",
       "    <tr style=\"text-align: right;\">\n",
       "      <th></th>\n",
       "      <th>Pclass</th>\n",
       "      <th>Name</th>\n",
       "      <th>Sex</th>\n",
       "      <th>Age</th>\n",
       "      <th>SibSp</th>\n",
       "      <th>Parch</th>\n",
       "      <th>Fare</th>\n",
       "      <th>Embarked</th>\n",
       "      <th>Survived</th>\n",
       "      <th>FamilySize</th>\n",
       "      <th>IsAlone</th>\n",
       "      <th>Title</th>\n",
       "      <th>FareBin</th>\n",
       "      <th>AgeBin</th>\n",
       "      <th>Sex_Code</th>\n",
       "      <th>Embarked_Code</th>\n",
       "      <th>Title_Code</th>\n",
       "      <th>AgeBin_Code</th>\n",
       "      <th>FareBin_Code</th>\n",
       "    </tr>\n",
       "  </thead>\n",
       "  <tbody>\n",
       "    <tr>\n",
       "      <th>0</th>\n",
       "      <td>3</td>\n",
       "      <td>Kelly, Mr. James</td>\n",
       "      <td>male</td>\n",
       "      <td>34.5</td>\n",
       "      <td>0</td>\n",
       "      <td>0</td>\n",
       "      <td>7.8292</td>\n",
       "      <td>Q</td>\n",
       "      <td>test</td>\n",
       "      <td>1</td>\n",
       "      <td>1</td>\n",
       "      <td>Mr</td>\n",
       "      <td>(-0.001, 7.896]</td>\n",
       "      <td>(32.0, 48.0]</td>\n",
       "      <td>1</td>\n",
       "      <td>1</td>\n",
       "      <td>3</td>\n",
       "      <td>2</td>\n",
       "      <td>0</td>\n",
       "    </tr>\n",
       "    <tr>\n",
       "      <th>1</th>\n",
       "      <td>3</td>\n",
       "      <td>Wilkes, Mrs. James (Ellen Needs)</td>\n",
       "      <td>female</td>\n",
       "      <td>47.0</td>\n",
       "      <td>1</td>\n",
       "      <td>0</td>\n",
       "      <td>7.0000</td>\n",
       "      <td>S</td>\n",
       "      <td>test</td>\n",
       "      <td>2</td>\n",
       "      <td>0</td>\n",
       "      <td>Mrs</td>\n",
       "      <td>(-0.001, 7.896]</td>\n",
       "      <td>(32.0, 48.0]</td>\n",
       "      <td>0</td>\n",
       "      <td>2</td>\n",
       "      <td>4</td>\n",
       "      <td>2</td>\n",
       "      <td>0</td>\n",
       "    </tr>\n",
       "    <tr>\n",
       "      <th>2</th>\n",
       "      <td>2</td>\n",
       "      <td>Myles, Mr. Thomas Francis</td>\n",
       "      <td>male</td>\n",
       "      <td>62.0</td>\n",
       "      <td>0</td>\n",
       "      <td>0</td>\n",
       "      <td>9.6875</td>\n",
       "      <td>Q</td>\n",
       "      <td>test</td>\n",
       "      <td>1</td>\n",
       "      <td>1</td>\n",
       "      <td>Mr</td>\n",
       "      <td>(7.896, 14.454]</td>\n",
       "      <td>(48.0, 64.0]</td>\n",
       "      <td>1</td>\n",
       "      <td>1</td>\n",
       "      <td>3</td>\n",
       "      <td>3</td>\n",
       "      <td>1</td>\n",
       "    </tr>\n",
       "    <tr>\n",
       "      <th>3</th>\n",
       "      <td>3</td>\n",
       "      <td>Wirz, Mr. Albert</td>\n",
       "      <td>male</td>\n",
       "      <td>27.0</td>\n",
       "      <td>0</td>\n",
       "      <td>0</td>\n",
       "      <td>8.6625</td>\n",
       "      <td>S</td>\n",
       "      <td>test</td>\n",
       "      <td>1</td>\n",
       "      <td>1</td>\n",
       "      <td>Mr</td>\n",
       "      <td>(7.896, 14.454]</td>\n",
       "      <td>(16.0, 32.0]</td>\n",
       "      <td>1</td>\n",
       "      <td>2</td>\n",
       "      <td>3</td>\n",
       "      <td>1</td>\n",
       "      <td>1</td>\n",
       "    </tr>\n",
       "    <tr>\n",
       "      <th>4</th>\n",
       "      <td>3</td>\n",
       "      <td>Hirvonen, Mrs. Alexander (Helga E Lindqvist)</td>\n",
       "      <td>female</td>\n",
       "      <td>22.0</td>\n",
       "      <td>1</td>\n",
       "      <td>1</td>\n",
       "      <td>12.2875</td>\n",
       "      <td>S</td>\n",
       "      <td>test</td>\n",
       "      <td>3</td>\n",
       "      <td>0</td>\n",
       "      <td>Mrs</td>\n",
       "      <td>(7.896, 14.454]</td>\n",
       "      <td>(16.0, 32.0]</td>\n",
       "      <td>0</td>\n",
       "      <td>2</td>\n",
       "      <td>4</td>\n",
       "      <td>1</td>\n",
       "      <td>1</td>\n",
       "    </tr>\n",
       "    <tr>\n",
       "      <th>...</th>\n",
       "      <td>...</td>\n",
       "      <td>...</td>\n",
       "      <td>...</td>\n",
       "      <td>...</td>\n",
       "      <td>...</td>\n",
       "      <td>...</td>\n",
       "      <td>...</td>\n",
       "      <td>...</td>\n",
       "      <td>...</td>\n",
       "      <td>...</td>\n",
       "      <td>...</td>\n",
       "      <td>...</td>\n",
       "      <td>...</td>\n",
       "      <td>...</td>\n",
       "      <td>...</td>\n",
       "      <td>...</td>\n",
       "      <td>...</td>\n",
       "      <td>...</td>\n",
       "      <td>...</td>\n",
       "    </tr>\n",
       "    <tr>\n",
       "      <th>1304</th>\n",
       "      <td>2</td>\n",
       "      <td>Montvila, Rev. Juozas</td>\n",
       "      <td>male</td>\n",
       "      <td>27.0</td>\n",
       "      <td>0</td>\n",
       "      <td>0</td>\n",
       "      <td>13.0000</td>\n",
       "      <td>S</td>\n",
       "      <td>0</td>\n",
       "      <td>1</td>\n",
       "      <td>1</td>\n",
       "      <td>Misc</td>\n",
       "      <td>(7.896, 14.454]</td>\n",
       "      <td>(16.0, 32.0]</td>\n",
       "      <td>1</td>\n",
       "      <td>2</td>\n",
       "      <td>1</td>\n",
       "      <td>1</td>\n",
       "      <td>1</td>\n",
       "    </tr>\n",
       "    <tr>\n",
       "      <th>1305</th>\n",
       "      <td>1</td>\n",
       "      <td>Graham, Miss. Margaret Edith</td>\n",
       "      <td>female</td>\n",
       "      <td>19.0</td>\n",
       "      <td>0</td>\n",
       "      <td>0</td>\n",
       "      <td>30.0000</td>\n",
       "      <td>S</td>\n",
       "      <td>1</td>\n",
       "      <td>1</td>\n",
       "      <td>1</td>\n",
       "      <td>Miss</td>\n",
       "      <td>(14.454, 31.275]</td>\n",
       "      <td>(16.0, 32.0]</td>\n",
       "      <td>0</td>\n",
       "      <td>2</td>\n",
       "      <td>2</td>\n",
       "      <td>1</td>\n",
       "      <td>2</td>\n",
       "    </tr>\n",
       "    <tr>\n",
       "      <th>1306</th>\n",
       "      <td>3</td>\n",
       "      <td>Johnston, Miss. Catherine Helen \"Carrie\"</td>\n",
       "      <td>female</td>\n",
       "      <td>28.0</td>\n",
       "      <td>1</td>\n",
       "      <td>2</td>\n",
       "      <td>23.4500</td>\n",
       "      <td>S</td>\n",
       "      <td>0</td>\n",
       "      <td>4</td>\n",
       "      <td>0</td>\n",
       "      <td>Miss</td>\n",
       "      <td>(14.454, 31.275]</td>\n",
       "      <td>(16.0, 32.0]</td>\n",
       "      <td>0</td>\n",
       "      <td>2</td>\n",
       "      <td>2</td>\n",
       "      <td>1</td>\n",
       "      <td>2</td>\n",
       "    </tr>\n",
       "    <tr>\n",
       "      <th>1307</th>\n",
       "      <td>1</td>\n",
       "      <td>Behr, Mr. Karl Howell</td>\n",
       "      <td>male</td>\n",
       "      <td>26.0</td>\n",
       "      <td>0</td>\n",
       "      <td>0</td>\n",
       "      <td>30.0000</td>\n",
       "      <td>C</td>\n",
       "      <td>1</td>\n",
       "      <td>1</td>\n",
       "      <td>1</td>\n",
       "      <td>Mr</td>\n",
       "      <td>(14.454, 31.275]</td>\n",
       "      <td>(16.0, 32.0]</td>\n",
       "      <td>1</td>\n",
       "      <td>0</td>\n",
       "      <td>3</td>\n",
       "      <td>1</td>\n",
       "      <td>2</td>\n",
       "    </tr>\n",
       "    <tr>\n",
       "      <th>1308</th>\n",
       "      <td>3</td>\n",
       "      <td>Dooley, Mr. Patrick</td>\n",
       "      <td>male</td>\n",
       "      <td>32.0</td>\n",
       "      <td>0</td>\n",
       "      <td>0</td>\n",
       "      <td>7.7500</td>\n",
       "      <td>Q</td>\n",
       "      <td>0</td>\n",
       "      <td>1</td>\n",
       "      <td>1</td>\n",
       "      <td>Mr</td>\n",
       "      <td>(-0.001, 7.896]</td>\n",
       "      <td>(16.0, 32.0]</td>\n",
       "      <td>1</td>\n",
       "      <td>1</td>\n",
       "      <td>3</td>\n",
       "      <td>1</td>\n",
       "      <td>0</td>\n",
       "    </tr>\n",
       "  </tbody>\n",
       "</table>\n",
       "<p>1309 rows × 19 columns</p>\n",
       "</div>"
      ],
      "text/plain": [
       "      Pclass                                          Name     Sex   Age  \\\n",
       "0          3                              Kelly, Mr. James    male  34.5   \n",
       "1          3              Wilkes, Mrs. James (Ellen Needs)  female  47.0   \n",
       "2          2                     Myles, Mr. Thomas Francis    male  62.0   \n",
       "3          3                              Wirz, Mr. Albert    male  27.0   \n",
       "4          3  Hirvonen, Mrs. Alexander (Helga E Lindqvist)  female  22.0   \n",
       "...      ...                                           ...     ...   ...   \n",
       "1304       2                         Montvila, Rev. Juozas    male  27.0   \n",
       "1305       1                  Graham, Miss. Margaret Edith  female  19.0   \n",
       "1306       3      Johnston, Miss. Catherine Helen \"Carrie\"  female  28.0   \n",
       "1307       1                         Behr, Mr. Karl Howell    male  26.0   \n",
       "1308       3                           Dooley, Mr. Patrick    male  32.0   \n",
       "\n",
       "      SibSp  Parch     Fare Embarked Survived  FamilySize  IsAlone Title  \\\n",
       "0         0      0   7.8292        Q     test           1        1    Mr   \n",
       "1         1      0   7.0000        S     test           2        0   Mrs   \n",
       "2         0      0   9.6875        Q     test           1        1    Mr   \n",
       "3         0      0   8.6625        S     test           1        1    Mr   \n",
       "4         1      1  12.2875        S     test           3        0   Mrs   \n",
       "...     ...    ...      ...      ...      ...         ...      ...   ...   \n",
       "1304      0      0  13.0000        S        0           1        1  Misc   \n",
       "1305      0      0  30.0000        S        1           1        1  Miss   \n",
       "1306      1      2  23.4500        S        0           4        0  Miss   \n",
       "1307      0      0  30.0000        C        1           1        1    Mr   \n",
       "1308      0      0   7.7500        Q        0           1        1    Mr   \n",
       "\n",
       "               FareBin        AgeBin  Sex_Code  Embarked_Code  Title_Code  \\\n",
       "0      (-0.001, 7.896]  (32.0, 48.0]         1              1           3   \n",
       "1      (-0.001, 7.896]  (32.0, 48.0]         0              2           4   \n",
       "2      (7.896, 14.454]  (48.0, 64.0]         1              1           3   \n",
       "3      (7.896, 14.454]  (16.0, 32.0]         1              2           3   \n",
       "4      (7.896, 14.454]  (16.0, 32.0]         0              2           4   \n",
       "...                ...           ...       ...            ...         ...   \n",
       "1304   (7.896, 14.454]  (16.0, 32.0]         1              2           1   \n",
       "1305  (14.454, 31.275]  (16.0, 32.0]         0              2           2   \n",
       "1306  (14.454, 31.275]  (16.0, 32.0]         0              2           2   \n",
       "1307  (14.454, 31.275]  (16.0, 32.0]         1              0           3   \n",
       "1308   (-0.001, 7.896]  (16.0, 32.0]         1              1           3   \n",
       "\n",
       "      AgeBin_Code  FareBin_Code  \n",
       "0               2             0  \n",
       "1               2             0  \n",
       "2               3             1  \n",
       "3               1             1  \n",
       "4               1             1  \n",
       "...           ...           ...  \n",
       "1304            1             1  \n",
       "1305            1             2  \n",
       "1306            1             2  \n",
       "1307            1             2  \n",
       "1308            1             0  \n",
       "\n",
       "[1309 rows x 19 columns]"
      ]
     },
     "execution_count": 24,
     "metadata": {},
     "output_type": "execute_result"
    }
   ],
   "source": [
    "df"
   ]
  },
  {
   "cell_type": "code",
   "execution_count": 25,
   "metadata": {
    "execution": {
     "iopub.execute_input": "2020-11-04T12:46:23.757620Z",
     "iopub.status.busy": "2020-11-04T12:46:23.756689Z",
     "iopub.status.idle": "2020-11-04T12:46:23.759894Z",
     "shell.execute_reply": "2020-11-04T12:46:23.759186Z"
    },
    "papermill": {
     "duration": 0.057638,
     "end_time": "2020-11-04T12:46:23.760014",
     "exception": false,
     "start_time": "2020-11-04T12:46:23.702376",
     "status": "completed"
    },
    "tags": []
   },
   "outputs": [],
   "source": [
    "target = ['Survived']\n",
    "features = ['Pclass', 'Embarked_Code','Sex_Code', 'Title_Code','SibSp', 'Parch', 'FamilySize', 'IsAlone','AgeBin_Code','FareBin_Code']"
   ]
  },
  {
   "cell_type": "code",
   "execution_count": 26,
   "metadata": {
    "execution": {
     "iopub.execute_input": "2020-11-04T12:46:23.866605Z",
     "iopub.status.busy": "2020-11-04T12:46:23.865662Z",
     "iopub.status.idle": "2020-11-04T12:46:23.882826Z",
     "shell.execute_reply": "2020-11-04T12:46:23.882287Z"
    },
    "papermill": {
     "duration": 0.072421,
     "end_time": "2020-11-04T12:46:23.882949",
     "exception": false,
     "start_time": "2020-11-04T12:46:23.810528",
     "status": "completed"
    },
    "tags": []
   },
   "outputs": [
    {
     "name": "stdout",
     "output_type": "stream",
     "text": [
      "<class 'pandas.core.frame.DataFrame'>\n",
      "RangeIndex: 1309 entries, 0 to 1308\n",
      "Data columns (total 19 columns):\n",
      " #   Column         Non-Null Count  Dtype   \n",
      "---  ------         --------------  -----   \n",
      " 0   Pclass         1309 non-null   int64   \n",
      " 1   Name           1309 non-null   object  \n",
      " 2   Sex            1309 non-null   object  \n",
      " 3   Age            1309 non-null   float64 \n",
      " 4   SibSp          1309 non-null   int64   \n",
      " 5   Parch          1309 non-null   int64   \n",
      " 6   Fare           1309 non-null   float64 \n",
      " 7   Embarked       1309 non-null   object  \n",
      " 8   Survived       1309 non-null   object  \n",
      " 9   FamilySize     1309 non-null   int64   \n",
      " 10  IsAlone        1309 non-null   int64   \n",
      " 11  Title          1309 non-null   object  \n",
      " 12  FareBin        1309 non-null   category\n",
      " 13  AgeBin         1309 non-null   category\n",
      " 14  Sex_Code       1309 non-null   int64   \n",
      " 15  Embarked_Code  1309 non-null   int64   \n",
      " 16  Title_Code     1309 non-null   int64   \n",
      " 17  AgeBin_Code    1309 non-null   int64   \n",
      " 18  FareBin_Code   1309 non-null   int64   \n",
      "dtypes: category(2), float64(2), int64(10), object(5)\n",
      "memory usage: 177.0+ KB\n"
     ]
    }
   ],
   "source": [
    "df.info()"
   ]
  },
  {
   "cell_type": "code",
   "execution_count": null,
   "metadata": {
    "papermill": {
     "duration": 0.051193,
     "end_time": "2020-11-04T12:46:23.984795",
     "exception": false,
     "start_time": "2020-11-04T12:46:23.933602",
     "status": "completed"
    },
    "tags": []
   },
   "outputs": [],
   "source": []
  },
  {
   "cell_type": "code",
   "execution_count": 27,
   "metadata": {
    "execution": {
     "iopub.execute_input": "2020-11-04T12:46:24.094959Z",
     "iopub.status.busy": "2020-11-04T12:46:24.094105Z",
     "iopub.status.idle": "2020-11-04T12:46:24.098188Z",
     "shell.execute_reply": "2020-11-04T12:46:24.097689Z"
    },
    "papermill": {
     "duration": 0.062277,
     "end_time": "2020-11-04T12:46:24.098315",
     "exception": false,
     "start_time": "2020-11-04T12:46:24.036038",
     "status": "completed"
    },
    "tags": []
   },
   "outputs": [],
   "source": [
    "df_test = df[df['Survived'] == 'test']\n",
    "df_train = df[df['Survived'] != 'test']"
   ]
  },
  {
   "cell_type": "code",
   "execution_count": 28,
   "metadata": {
    "execution": {
     "iopub.execute_input": "2020-11-04T12:46:24.206742Z",
     "iopub.status.busy": "2020-11-04T12:46:24.206036Z",
     "iopub.status.idle": "2020-11-04T12:46:24.208972Z",
     "shell.execute_reply": "2020-11-04T12:46:24.208516Z"
    },
    "papermill": {
     "duration": 0.060288,
     "end_time": "2020-11-04T12:46:24.209081",
     "exception": false,
     "start_time": "2020-11-04T12:46:24.148793",
     "status": "completed"
    },
    "tags": []
   },
   "outputs": [],
   "source": [
    "X = df_train[features]\n",
    "y = df_train['Survived']\n",
    "test_X = df_test[features]"
   ]
  },
  {
   "cell_type": "code",
   "execution_count": 29,
   "metadata": {
    "execution": {
     "iopub.execute_input": "2020-11-04T12:46:24.325550Z",
     "iopub.status.busy": "2020-11-04T12:46:24.324673Z",
     "iopub.status.idle": "2020-11-04T12:46:24.328811Z",
     "shell.execute_reply": "2020-11-04T12:46:24.329219Z"
    },
    "papermill": {
     "duration": 0.069722,
     "end_time": "2020-11-04T12:46:24.329386",
     "exception": false,
     "start_time": "2020-11-04T12:46:24.259664",
     "status": "completed"
    },
    "tags": []
   },
   "outputs": [
    {
     "data": {
      "text/html": [
       "<div>\n",
       "<style scoped>\n",
       "    .dataframe tbody tr th:only-of-type {\n",
       "        vertical-align: middle;\n",
       "    }\n",
       "\n",
       "    .dataframe tbody tr th {\n",
       "        vertical-align: top;\n",
       "    }\n",
       "\n",
       "    .dataframe thead th {\n",
       "        text-align: right;\n",
       "    }\n",
       "</style>\n",
       "<table border=\"1\" class=\"dataframe\">\n",
       "  <thead>\n",
       "    <tr style=\"text-align: right;\">\n",
       "      <th></th>\n",
       "      <th>Pclass</th>\n",
       "      <th>Embarked_Code</th>\n",
       "      <th>Sex_Code</th>\n",
       "      <th>Title_Code</th>\n",
       "      <th>SibSp</th>\n",
       "      <th>Parch</th>\n",
       "      <th>FamilySize</th>\n",
       "      <th>IsAlone</th>\n",
       "      <th>AgeBin_Code</th>\n",
       "      <th>FareBin_Code</th>\n",
       "    </tr>\n",
       "  </thead>\n",
       "  <tbody>\n",
       "    <tr>\n",
       "      <th>0</th>\n",
       "      <td>3</td>\n",
       "      <td>1</td>\n",
       "      <td>1</td>\n",
       "      <td>3</td>\n",
       "      <td>0</td>\n",
       "      <td>0</td>\n",
       "      <td>1</td>\n",
       "      <td>1</td>\n",
       "      <td>2</td>\n",
       "      <td>0</td>\n",
       "    </tr>\n",
       "    <tr>\n",
       "      <th>1</th>\n",
       "      <td>3</td>\n",
       "      <td>2</td>\n",
       "      <td>0</td>\n",
       "      <td>4</td>\n",
       "      <td>1</td>\n",
       "      <td>0</td>\n",
       "      <td>2</td>\n",
       "      <td>0</td>\n",
       "      <td>2</td>\n",
       "      <td>0</td>\n",
       "    </tr>\n",
       "    <tr>\n",
       "      <th>2</th>\n",
       "      <td>2</td>\n",
       "      <td>1</td>\n",
       "      <td>1</td>\n",
       "      <td>3</td>\n",
       "      <td>0</td>\n",
       "      <td>0</td>\n",
       "      <td>1</td>\n",
       "      <td>1</td>\n",
       "      <td>3</td>\n",
       "      <td>1</td>\n",
       "    </tr>\n",
       "    <tr>\n",
       "      <th>3</th>\n",
       "      <td>3</td>\n",
       "      <td>2</td>\n",
       "      <td>1</td>\n",
       "      <td>3</td>\n",
       "      <td>0</td>\n",
       "      <td>0</td>\n",
       "      <td>1</td>\n",
       "      <td>1</td>\n",
       "      <td>1</td>\n",
       "      <td>1</td>\n",
       "    </tr>\n",
       "    <tr>\n",
       "      <th>4</th>\n",
       "      <td>3</td>\n",
       "      <td>2</td>\n",
       "      <td>0</td>\n",
       "      <td>4</td>\n",
       "      <td>1</td>\n",
       "      <td>1</td>\n",
       "      <td>3</td>\n",
       "      <td>0</td>\n",
       "      <td>1</td>\n",
       "      <td>1</td>\n",
       "    </tr>\n",
       "    <tr>\n",
       "      <th>...</th>\n",
       "      <td>...</td>\n",
       "      <td>...</td>\n",
       "      <td>...</td>\n",
       "      <td>...</td>\n",
       "      <td>...</td>\n",
       "      <td>...</td>\n",
       "      <td>...</td>\n",
       "      <td>...</td>\n",
       "      <td>...</td>\n",
       "      <td>...</td>\n",
       "    </tr>\n",
       "    <tr>\n",
       "      <th>413</th>\n",
       "      <td>3</td>\n",
       "      <td>2</td>\n",
       "      <td>1</td>\n",
       "      <td>3</td>\n",
       "      <td>0</td>\n",
       "      <td>0</td>\n",
       "      <td>1</td>\n",
       "      <td>1</td>\n",
       "      <td>1</td>\n",
       "      <td>1</td>\n",
       "    </tr>\n",
       "    <tr>\n",
       "      <th>414</th>\n",
       "      <td>1</td>\n",
       "      <td>0</td>\n",
       "      <td>0</td>\n",
       "      <td>1</td>\n",
       "      <td>0</td>\n",
       "      <td>0</td>\n",
       "      <td>1</td>\n",
       "      <td>1</td>\n",
       "      <td>2</td>\n",
       "      <td>3</td>\n",
       "    </tr>\n",
       "    <tr>\n",
       "      <th>415</th>\n",
       "      <td>3</td>\n",
       "      <td>2</td>\n",
       "      <td>1</td>\n",
       "      <td>3</td>\n",
       "      <td>0</td>\n",
       "      <td>0</td>\n",
       "      <td>1</td>\n",
       "      <td>1</td>\n",
       "      <td>2</td>\n",
       "      <td>0</td>\n",
       "    </tr>\n",
       "    <tr>\n",
       "      <th>416</th>\n",
       "      <td>3</td>\n",
       "      <td>2</td>\n",
       "      <td>1</td>\n",
       "      <td>3</td>\n",
       "      <td>0</td>\n",
       "      <td>0</td>\n",
       "      <td>1</td>\n",
       "      <td>1</td>\n",
       "      <td>1</td>\n",
       "      <td>1</td>\n",
       "    </tr>\n",
       "    <tr>\n",
       "      <th>417</th>\n",
       "      <td>3</td>\n",
       "      <td>0</td>\n",
       "      <td>1</td>\n",
       "      <td>0</td>\n",
       "      <td>1</td>\n",
       "      <td>1</td>\n",
       "      <td>3</td>\n",
       "      <td>0</td>\n",
       "      <td>1</td>\n",
       "      <td>2</td>\n",
       "    </tr>\n",
       "  </tbody>\n",
       "</table>\n",
       "<p>418 rows × 10 columns</p>\n",
       "</div>"
      ],
      "text/plain": [
       "     Pclass  Embarked_Code  Sex_Code  Title_Code  SibSp  Parch  FamilySize  \\\n",
       "0         3              1         1           3      0      0           1   \n",
       "1         3              2         0           4      1      0           2   \n",
       "2         2              1         1           3      0      0           1   \n",
       "3         3              2         1           3      0      0           1   \n",
       "4         3              2         0           4      1      1           3   \n",
       "..      ...            ...       ...         ...    ...    ...         ...   \n",
       "413       3              2         1           3      0      0           1   \n",
       "414       1              0         0           1      0      0           1   \n",
       "415       3              2         1           3      0      0           1   \n",
       "416       3              2         1           3      0      0           1   \n",
       "417       3              0         1           0      1      1           3   \n",
       "\n",
       "     IsAlone  AgeBin_Code  FareBin_Code  \n",
       "0          1            2             0  \n",
       "1          0            2             0  \n",
       "2          1            3             1  \n",
       "3          1            1             1  \n",
       "4          0            1             1  \n",
       "..       ...          ...           ...  \n",
       "413        1            1             1  \n",
       "414        1            2             3  \n",
       "415        1            2             0  \n",
       "416        1            1             1  \n",
       "417        0            1             2  \n",
       "\n",
       "[418 rows x 10 columns]"
      ]
     },
     "execution_count": 29,
     "metadata": {},
     "output_type": "execute_result"
    }
   ],
   "source": [
    "test_X"
   ]
  },
  {
   "cell_type": "code",
   "execution_count": 30,
   "metadata": {
    "execution": {
     "iopub.execute_input": "2020-11-04T12:46:24.439705Z",
     "iopub.status.busy": "2020-11-04T12:46:24.438617Z",
     "iopub.status.idle": "2020-11-04T12:46:24.442975Z",
     "shell.execute_reply": "2020-11-04T12:46:24.442367Z"
    },
    "papermill": {
     "duration": 0.062681,
     "end_time": "2020-11-04T12:46:24.443087",
     "exception": false,
     "start_time": "2020-11-04T12:46:24.380406",
     "status": "completed"
    },
    "tags": []
   },
   "outputs": [
    {
     "data": {
      "text/plain": [
       "418     0\n",
       "419     1\n",
       "420     1\n",
       "421     1\n",
       "422     0\n",
       "       ..\n",
       "1304    0\n",
       "1305    1\n",
       "1306    0\n",
       "1307    1\n",
       "1308    0\n",
       "Name: Survived, Length: 891, dtype: object"
      ]
     },
     "execution_count": 30,
     "metadata": {},
     "output_type": "execute_result"
    }
   ],
   "source": [
    "y"
   ]
  },
  {
   "cell_type": "code",
   "execution_count": 31,
   "metadata": {
    "execution": {
     "iopub.execute_input": "2020-11-04T12:46:24.560792Z",
     "iopub.status.busy": "2020-11-04T12:46:24.559979Z",
     "iopub.status.idle": "2020-11-04T12:46:24.564589Z",
     "shell.execute_reply": "2020-11-04T12:46:24.564027Z"
    },
    "papermill": {
     "duration": 0.069895,
     "end_time": "2020-11-04T12:46:24.564706",
     "exception": false,
     "start_time": "2020-11-04T12:46:24.494811",
     "status": "completed"
    },
    "tags": []
   },
   "outputs": [
    {
     "data": {
      "text/html": [
       "<div>\n",
       "<style scoped>\n",
       "    .dataframe tbody tr th:only-of-type {\n",
       "        vertical-align: middle;\n",
       "    }\n",
       "\n",
       "    .dataframe tbody tr th {\n",
       "        vertical-align: top;\n",
       "    }\n",
       "\n",
       "    .dataframe thead th {\n",
       "        text-align: right;\n",
       "    }\n",
       "</style>\n",
       "<table border=\"1\" class=\"dataframe\">\n",
       "  <thead>\n",
       "    <tr style=\"text-align: right;\">\n",
       "      <th></th>\n",
       "      <th>Pclass</th>\n",
       "      <th>Embarked_Code</th>\n",
       "      <th>Sex_Code</th>\n",
       "      <th>Title_Code</th>\n",
       "      <th>SibSp</th>\n",
       "      <th>Parch</th>\n",
       "      <th>FamilySize</th>\n",
       "      <th>IsAlone</th>\n",
       "      <th>AgeBin_Code</th>\n",
       "      <th>FareBin_Code</th>\n",
       "    </tr>\n",
       "  </thead>\n",
       "  <tbody>\n",
       "    <tr>\n",
       "      <th>418</th>\n",
       "      <td>3</td>\n",
       "      <td>2</td>\n",
       "      <td>1</td>\n",
       "      <td>3</td>\n",
       "      <td>1</td>\n",
       "      <td>0</td>\n",
       "      <td>2</td>\n",
       "      <td>0</td>\n",
       "      <td>1</td>\n",
       "      <td>0</td>\n",
       "    </tr>\n",
       "    <tr>\n",
       "      <th>419</th>\n",
       "      <td>1</td>\n",
       "      <td>0</td>\n",
       "      <td>0</td>\n",
       "      <td>4</td>\n",
       "      <td>1</td>\n",
       "      <td>0</td>\n",
       "      <td>2</td>\n",
       "      <td>0</td>\n",
       "      <td>2</td>\n",
       "      <td>3</td>\n",
       "    </tr>\n",
       "    <tr>\n",
       "      <th>420</th>\n",
       "      <td>3</td>\n",
       "      <td>2</td>\n",
       "      <td>0</td>\n",
       "      <td>2</td>\n",
       "      <td>0</td>\n",
       "      <td>0</td>\n",
       "      <td>1</td>\n",
       "      <td>1</td>\n",
       "      <td>1</td>\n",
       "      <td>1</td>\n",
       "    </tr>\n",
       "    <tr>\n",
       "      <th>421</th>\n",
       "      <td>1</td>\n",
       "      <td>2</td>\n",
       "      <td>0</td>\n",
       "      <td>4</td>\n",
       "      <td>1</td>\n",
       "      <td>0</td>\n",
       "      <td>2</td>\n",
       "      <td>0</td>\n",
       "      <td>2</td>\n",
       "      <td>3</td>\n",
       "    </tr>\n",
       "    <tr>\n",
       "      <th>422</th>\n",
       "      <td>3</td>\n",
       "      <td>2</td>\n",
       "      <td>1</td>\n",
       "      <td>3</td>\n",
       "      <td>0</td>\n",
       "      <td>0</td>\n",
       "      <td>1</td>\n",
       "      <td>1</td>\n",
       "      <td>2</td>\n",
       "      <td>1</td>\n",
       "    </tr>\n",
       "    <tr>\n",
       "      <th>...</th>\n",
       "      <td>...</td>\n",
       "      <td>...</td>\n",
       "      <td>...</td>\n",
       "      <td>...</td>\n",
       "      <td>...</td>\n",
       "      <td>...</td>\n",
       "      <td>...</td>\n",
       "      <td>...</td>\n",
       "      <td>...</td>\n",
       "      <td>...</td>\n",
       "    </tr>\n",
       "    <tr>\n",
       "      <th>1304</th>\n",
       "      <td>2</td>\n",
       "      <td>2</td>\n",
       "      <td>1</td>\n",
       "      <td>1</td>\n",
       "      <td>0</td>\n",
       "      <td>0</td>\n",
       "      <td>1</td>\n",
       "      <td>1</td>\n",
       "      <td>1</td>\n",
       "      <td>1</td>\n",
       "    </tr>\n",
       "    <tr>\n",
       "      <th>1305</th>\n",
       "      <td>1</td>\n",
       "      <td>2</td>\n",
       "      <td>0</td>\n",
       "      <td>2</td>\n",
       "      <td>0</td>\n",
       "      <td>0</td>\n",
       "      <td>1</td>\n",
       "      <td>1</td>\n",
       "      <td>1</td>\n",
       "      <td>2</td>\n",
       "    </tr>\n",
       "    <tr>\n",
       "      <th>1306</th>\n",
       "      <td>3</td>\n",
       "      <td>2</td>\n",
       "      <td>0</td>\n",
       "      <td>2</td>\n",
       "      <td>1</td>\n",
       "      <td>2</td>\n",
       "      <td>4</td>\n",
       "      <td>0</td>\n",
       "      <td>1</td>\n",
       "      <td>2</td>\n",
       "    </tr>\n",
       "    <tr>\n",
       "      <th>1307</th>\n",
       "      <td>1</td>\n",
       "      <td>0</td>\n",
       "      <td>1</td>\n",
       "      <td>3</td>\n",
       "      <td>0</td>\n",
       "      <td>0</td>\n",
       "      <td>1</td>\n",
       "      <td>1</td>\n",
       "      <td>1</td>\n",
       "      <td>2</td>\n",
       "    </tr>\n",
       "    <tr>\n",
       "      <th>1308</th>\n",
       "      <td>3</td>\n",
       "      <td>1</td>\n",
       "      <td>1</td>\n",
       "      <td>3</td>\n",
       "      <td>0</td>\n",
       "      <td>0</td>\n",
       "      <td>1</td>\n",
       "      <td>1</td>\n",
       "      <td>1</td>\n",
       "      <td>0</td>\n",
       "    </tr>\n",
       "  </tbody>\n",
       "</table>\n",
       "<p>891 rows × 10 columns</p>\n",
       "</div>"
      ],
      "text/plain": [
       "      Pclass  Embarked_Code  Sex_Code  Title_Code  SibSp  Parch  FamilySize  \\\n",
       "418        3              2         1           3      1      0           2   \n",
       "419        1              0         0           4      1      0           2   \n",
       "420        3              2         0           2      0      0           1   \n",
       "421        1              2         0           4      1      0           2   \n",
       "422        3              2         1           3      0      0           1   \n",
       "...      ...            ...       ...         ...    ...    ...         ...   \n",
       "1304       2              2         1           1      0      0           1   \n",
       "1305       1              2         0           2      0      0           1   \n",
       "1306       3              2         0           2      1      2           4   \n",
       "1307       1              0         1           3      0      0           1   \n",
       "1308       3              1         1           3      0      0           1   \n",
       "\n",
       "      IsAlone  AgeBin_Code  FareBin_Code  \n",
       "418         0            1             0  \n",
       "419         0            2             3  \n",
       "420         1            1             1  \n",
       "421         0            2             3  \n",
       "422         1            2             1  \n",
       "...       ...          ...           ...  \n",
       "1304        1            1             1  \n",
       "1305        1            1             2  \n",
       "1306        0            1             2  \n",
       "1307        1            1             2  \n",
       "1308        1            1             0  \n",
       "\n",
       "[891 rows x 10 columns]"
      ]
     },
     "execution_count": 31,
     "metadata": {},
     "output_type": "execute_result"
    }
   ],
   "source": [
    "X"
   ]
  },
  {
   "cell_type": "code",
   "execution_count": 32,
   "metadata": {
    "execution": {
     "iopub.execute_input": "2020-11-04T12:46:24.675440Z",
     "iopub.status.busy": "2020-11-04T12:46:24.674692Z",
     "iopub.status.idle": "2020-11-04T12:46:24.678900Z",
     "shell.execute_reply": "2020-11-04T12:46:24.679349Z"
    },
    "papermill": {
     "duration": 0.062225,
     "end_time": "2020-11-04T12:46:24.679494",
     "exception": false,
     "start_time": "2020-11-04T12:46:24.617269",
     "status": "completed"
    },
    "tags": []
   },
   "outputs": [
    {
     "data": {
      "text/plain": [
       "'from sklearn.preprocessing import MinMaxScaler\\nscale = MinMaxScaler()\\nnew_X = pd.get_dummies(X)\\nnew_X = scale.fit_transform(new_X)\\nnew_test = pd.get_dummies(test_X)\\nnew_test = scale.fit_transform(new_test)'"
      ]
     },
     "execution_count": 32,
     "metadata": {},
     "output_type": "execute_result"
    }
   ],
   "source": [
    "'''from sklearn.preprocessing import MinMaxScaler\n",
    "scale = MinMaxScaler()\n",
    "new_X = pd.get_dummies(X)\n",
    "new_X = scale.fit_transform(new_X)\n",
    "new_test = pd.get_dummies(test_X)\n",
    "new_test = scale.fit_transform(new_test)'''"
   ]
  },
  {
   "cell_type": "code",
   "execution_count": null,
   "metadata": {
    "papermill": {
     "duration": 0.052274,
     "end_time": "2020-11-04T12:46:24.784677",
     "exception": false,
     "start_time": "2020-11-04T12:46:24.732403",
     "status": "completed"
    },
    "tags": []
   },
   "outputs": [],
   "source": []
  },
  {
   "cell_type": "code",
   "execution_count": 33,
   "metadata": {
    "execution": {
     "iopub.execute_input": "2020-11-04T12:46:24.895769Z",
     "iopub.status.busy": "2020-11-04T12:46:24.895008Z",
     "iopub.status.idle": "2020-11-04T12:46:24.947579Z",
     "shell.execute_reply": "2020-11-04T12:46:24.946880Z"
    },
    "papermill": {
     "duration": 0.110176,
     "end_time": "2020-11-04T12:46:24.947699",
     "exception": false,
     "start_time": "2020-11-04T12:46:24.837523",
     "status": "completed"
    },
    "tags": []
   },
   "outputs": [],
   "source": [
    "from sklearn.model_selection import train_test_split\n",
    "\n",
    "X_train, X_valid, y_train, y_valid = train_test_split(X, y, train_size=0.8, test_size=0.2,\n",
    "                                                                random_state=0)"
   ]
  },
  {
   "cell_type": "code",
   "execution_count": null,
   "metadata": {
    "papermill": {
     "duration": 0.052113,
     "end_time": "2020-11-04T12:46:25.052435",
     "exception": false,
     "start_time": "2020-11-04T12:46:25.000322",
     "status": "completed"
    },
    "tags": []
   },
   "outputs": [],
   "source": []
  },
  {
   "cell_type": "markdown",
   "metadata": {
    "papermill": {
     "duration": 0.052205,
     "end_time": "2020-11-04T12:46:25.158166",
     "exception": false,
     "start_time": "2020-11-04T12:46:25.105961",
     "status": "completed"
    },
    "tags": []
   },
   "source": [
    "# Modeling"
   ]
  },
  {
   "cell_type": "code",
   "execution_count": 34,
   "metadata": {
    "execution": {
     "iopub.execute_input": "2020-11-04T12:46:25.267889Z",
     "iopub.status.busy": "2020-11-04T12:46:25.267249Z",
     "iopub.status.idle": "2020-11-04T12:46:26.072007Z",
     "shell.execute_reply": "2020-11-04T12:46:26.071345Z"
    },
    "papermill": {
     "duration": 0.861555,
     "end_time": "2020-11-04T12:46:26.072120",
     "exception": false,
     "start_time": "2020-11-04T12:46:25.210565",
     "status": "completed"
    },
    "tags": []
   },
   "outputs": [],
   "source": [
    "from xgboost import XGBRegressor, XGBClassifier\n",
    "from sklearn.model_selection import GridSearchCV"
   ]
  },
  {
   "cell_type": "code",
   "execution_count": 35,
   "metadata": {
    "execution": {
     "iopub.execute_input": "2020-11-04T12:46:26.185071Z",
     "iopub.status.busy": "2020-11-04T12:46:26.184263Z",
     "iopub.status.idle": "2020-11-04T12:46:26.187314Z",
     "shell.execute_reply": "2020-11-04T12:46:26.186686Z"
    },
    "papermill": {
     "duration": 0.06136,
     "end_time": "2020-11-04T12:46:26.187440",
     "exception": false,
     "start_time": "2020-11-04T12:46:26.126080",
     "status": "completed"
    },
    "tags": []
   },
   "outputs": [],
   "source": [
    "y_train = label.fit_transform(y_train.astype('int'))"
   ]
  },
  {
   "cell_type": "code",
   "execution_count": 36,
   "metadata": {
    "execution": {
     "iopub.execute_input": "2020-11-04T12:46:26.304371Z",
     "iopub.status.busy": "2020-11-04T12:46:26.303355Z",
     "iopub.status.idle": "2020-11-04T12:46:26.306663Z",
     "shell.execute_reply": "2020-11-04T12:46:26.306002Z"
    },
    "papermill": {
     "duration": 0.065958,
     "end_time": "2020-11-04T12:46:26.306779",
     "exception": false,
     "start_time": "2020-11-04T12:46:26.240821",
     "status": "completed"
    },
    "tags": []
   },
   "outputs": [],
   "source": [
    "def algorithm_pipeline(X_train_data, X_test_data, y_train_data, y_test_data, \n",
    "                       model, param_grid, cv=10, scoring_fit='neg_mean_squared_error',\n",
    "                       do_probabilities = False):\n",
    "    gs = GridSearchCV(\n",
    "        estimator=model,\n",
    "        param_grid=param_grid, \n",
    "        cv=cv, \n",
    "        n_jobs=-1, \n",
    "        scoring=scoring_fit,\n",
    "        verbose=2\n",
    "    )\n",
    "    fitted_model = gs.fit(X_train_data, y_train_data)\n",
    "    \n",
    "    if do_probabilities:\n",
    "        pred = fitted_model.predict_proba(X_test_data)\n",
    "    else:\n",
    "        pred = fitted_model.predict(X_test_data)\n",
    "    \n",
    "    return fitted_model, pred"
   ]
  },
  {
   "cell_type": "code",
   "execution_count": 37,
   "metadata": {
    "execution": {
     "iopub.execute_input": "2020-11-04T12:46:26.418192Z",
     "iopub.status.busy": "2020-11-04T12:46:26.417259Z",
     "iopub.status.idle": "2020-11-04T12:46:26.420731Z",
     "shell.execute_reply": "2020-11-04T12:46:26.420081Z"
    },
    "papermill": {
     "duration": 0.060934,
     "end_time": "2020-11-04T12:46:26.420849",
     "exception": false,
     "start_time": "2020-11-04T12:46:26.359915",
     "status": "completed"
    },
    "tags": []
   },
   "outputs": [],
   "source": [
    "xgbc_model = XGBClassifier()"
   ]
  },
  {
   "cell_type": "code",
   "execution_count": 38,
   "metadata": {
    "execution": {
     "iopub.execute_input": "2020-11-04T12:46:26.538048Z",
     "iopub.status.busy": "2020-11-04T12:46:26.537135Z",
     "iopub.status.idle": "2020-11-04T12:46:30.386729Z",
     "shell.execute_reply": "2020-11-04T12:46:30.386167Z"
    },
    "papermill": {
     "duration": 3.91219,
     "end_time": "2020-11-04T12:46:30.386860",
     "exception": false,
     "start_time": "2020-11-04T12:46:26.474670",
     "status": "completed"
    },
    "tags": []
   },
   "outputs": [
    {
     "name": "stdout",
     "output_type": "stream",
     "text": [
      "Fitting 5 folds for each of 1 candidates, totalling 5 fits\n"
     ]
    },
    {
     "name": "stderr",
     "output_type": "stream",
     "text": [
      "[Parallel(n_jobs=5)]: Using backend LokyBackend with 5 concurrent workers.\n",
      "[Parallel(n_jobs=5)]: Done   2 out of   5 | elapsed:    3.0s remaining:    4.4s\n",
      "[Parallel(n_jobs=5)]: Done   5 out of   5 | elapsed:    3.4s remaining:    0.0s\n",
      "[Parallel(n_jobs=5)]: Done   5 out of   5 | elapsed:    3.4s finished\n"
     ]
    }
   ],
   "source": [
    "from sklearn.model_selection import StratifiedKFold\n",
    "parameterss = {'nthread':[4], #when use hyperthread, xgboost may become slower\n",
    "              'objective':['binary:logistic'],\n",
    "              'learning_rate': [0.05], #so called `eta` value\n",
    "              'max_depth': [6],\n",
    "              'min_child_weight': [11],\n",
    "              'subsample': [0.8],\n",
    "              'colsample_bytree': [0.7],\n",
    "              'n_estimators': [5], #number of trees, change it to 1000 for better results\n",
    "              'missing':[-999],\n",
    "              'seed': [1337]}\n",
    "\n",
    "kfolds = StratifiedKFold(5)\n",
    "cls = GridSearchCV(xgbc_model, parameterss, n_jobs=5, \n",
    "                   cv=kfolds.split(X_train,y_train), \n",
    "                   scoring='roc_auc',\n",
    "                   verbose=2, refit=True)\n",
    "\n",
    "\n",
    "cls.fit(X_train, y_train)\n",
    "output4 = pd.DataFrame({'PassengerId': test_data['PassengerId'],\n",
    "                       'Survived': cls.predict(test_X)})\n",
    "\n",
    "\n",
    "output4.to_csv('submission4.csv', index=False)\n"
   ]
  },
  {
   "cell_type": "code",
   "execution_count": null,
   "metadata": {
    "papermill": {
     "duration": 0.053773,
     "end_time": "2020-11-04T12:46:30.496428",
     "exception": false,
     "start_time": "2020-11-04T12:46:30.442655",
     "status": "completed"
    },
    "tags": []
   },
   "outputs": [],
   "source": []
  },
  {
   "cell_type": "code",
   "execution_count": 39,
   "metadata": {
    "execution": {
     "iopub.execute_input": "2020-11-04T12:46:30.615659Z",
     "iopub.status.busy": "2020-11-04T12:46:30.614537Z",
     "iopub.status.idle": "2020-11-04T12:46:30.618568Z",
     "shell.execute_reply": "2020-11-04T12:46:30.617998Z"
    },
    "papermill": {
     "duration": 0.067951,
     "end_time": "2020-11-04T12:46:30.618719",
     "exception": false,
     "start_time": "2020-11-04T12:46:30.550768",
     "status": "completed"
    },
    "tags": []
   },
   "outputs": [
    {
     "data": {
      "text/plain": [
       "\"model = XGBRegressor()\\nparam_grid = {\\n    'n_estimators': [400, 700, 1000],\\n    'colsample_bytree': [0.7, 0.8],\\n    'max_depth': [15,20,25],\\n    'reg_alpha': [1.1, 1.2, 1.3],\\n    'reg_lambda': [1.1, 1.2, 1.3],\\n    'subsample': [0.7, 0.8, 0.9]\\n}\\n\\nmodel, pred = algorithm_pipeline(X_train, X_valid, y_train, y_valid, model, \\n                                 param_grid, cv=5)\\n\\n# Root Mean Squared Error\\nprint(np.sqrt(-model.best_score_))\\nprint(model.best_params_)\""
      ]
     },
     "execution_count": 39,
     "metadata": {},
     "output_type": "execute_result"
    }
   ],
   "source": [
    "'''model = XGBRegressor()\n",
    "param_grid = {\n",
    "    'n_estimators': [400, 700, 1000],\n",
    "    'colsample_bytree': [0.7, 0.8],\n",
    "    'max_depth': [15,20,25],\n",
    "    'reg_alpha': [1.1, 1.2, 1.3],\n",
    "    'reg_lambda': [1.1, 1.2, 1.3],\n",
    "    'subsample': [0.7, 0.8, 0.9]\n",
    "}\n",
    "\n",
    "model, pred = algorithm_pipeline(X_train, X_valid, y_train, y_valid, model, \n",
    "                                 param_grid, cv=5)\n",
    "\n",
    "# Root Mean Squared Error\n",
    "print(np.sqrt(-model.best_score_))\n",
    "print(model.best_params_)'''"
   ]
  },
  {
   "cell_type": "code",
   "execution_count": 40,
   "metadata": {
    "execution": {
     "iopub.execute_input": "2020-11-04T12:46:30.733950Z",
     "iopub.status.busy": "2020-11-04T12:46:30.733168Z",
     "iopub.status.idle": "2020-11-04T12:46:30.736839Z",
     "shell.execute_reply": "2020-11-04T12:46:30.736197Z"
    },
    "papermill": {
     "duration": 0.063029,
     "end_time": "2020-11-04T12:46:30.736955",
     "exception": false,
     "start_time": "2020-11-04T12:46:30.673926",
     "status": "completed"
    },
    "tags": []
   },
   "outputs": [
    {
     "data": {
      "text/plain": [
       "\"best_params = {'colsample_bytree': 0.7, 'max_depth': 15, 'n_estimators': 400, 'reg_alpha': 1.3, 'reg_lambda': 1.1, 'subsample': 0.9}\""
      ]
     },
     "execution_count": 40,
     "metadata": {},
     "output_type": "execute_result"
    }
   ],
   "source": [
    "'''best_params = {'colsample_bytree': 0.7, 'max_depth': 15, 'n_estimators': 400, 'reg_alpha': 1.3, 'reg_lambda': 1.1, 'subsample': 0.9}'''"
   ]
  },
  {
   "cell_type": "code",
   "execution_count": 41,
   "metadata": {
    "execution": {
     "iopub.execute_input": "2020-11-04T12:46:30.852953Z",
     "iopub.status.busy": "2020-11-04T12:46:30.852108Z",
     "iopub.status.idle": "2020-11-04T12:46:30.855032Z",
     "shell.execute_reply": "2020-11-04T12:46:30.855515Z"
    },
    "papermill": {
     "duration": 0.063557,
     "end_time": "2020-11-04T12:46:30.855672",
     "exception": false,
     "start_time": "2020-11-04T12:46:30.792115",
     "status": "completed"
    },
    "tags": []
   },
   "outputs": [],
   "source": [
    "best_params = {'colsample_bytree': 0.7, 'max_depth': 15, 'n_estimators': 400, 'reg_alpha': 1.3, 'reg_lambda': 1.1, 'subsample': 0.9}"
   ]
  },
  {
   "cell_type": "code",
   "execution_count": 42,
   "metadata": {
    "execution": {
     "iopub.execute_input": "2020-11-04T12:46:30.971161Z",
     "iopub.status.busy": "2020-11-04T12:46:30.970407Z",
     "iopub.status.idle": "2020-11-04T12:46:30.974604Z",
     "shell.execute_reply": "2020-11-04T12:46:30.974062Z"
    },
    "papermill": {
     "duration": 0.063729,
     "end_time": "2020-11-04T12:46:30.974719",
     "exception": false,
     "start_time": "2020-11-04T12:46:30.910990",
     "status": "completed"
    },
    "tags": []
   },
   "outputs": [
    {
     "data": {
      "text/plain": [
       "\"other_model = n_estimators= 2000,\\n max_depth= 4,\\n min_child_weight= 2,\\n #gamma=1,\\n gamma=0.9,                        \\n subsample=0.8,\\n colsample_bytree=0.8,\\n objective= 'binary:logistic',\\n nthread= -1,\\n scale_pos_weight=1\""
      ]
     },
     "execution_count": 42,
     "metadata": {},
     "output_type": "execute_result"
    }
   ],
   "source": [
    "'''other_model = n_estimators= 2000,\n",
    " max_depth= 4,\n",
    " min_child_weight= 2,\n",
    " #gamma=1,\n",
    " gamma=0.9,                        \n",
    " subsample=0.8,\n",
    " colsample_bytree=0.8,\n",
    " objective= 'binary:logistic',\n",
    " nthread= -1,\n",
    " scale_pos_weight=1'''"
   ]
  },
  {
   "cell_type": "code",
   "execution_count": 43,
   "metadata": {
    "execution": {
     "iopub.execute_input": "2020-11-04T12:46:31.090906Z",
     "iopub.status.busy": "2020-11-04T12:46:31.090125Z",
     "iopub.status.idle": "2020-11-04T12:46:31.184232Z",
     "shell.execute_reply": "2020-11-04T12:46:31.183668Z"
    },
    "papermill": {
     "duration": 0.154214,
     "end_time": "2020-11-04T12:46:31.184373",
     "exception": false,
     "start_time": "2020-11-04T12:46:31.030159",
     "status": "completed"
    },
    "tags": []
   },
   "outputs": [
    {
     "ename": "NameError",
     "evalue": "name 'model' is not defined",
     "output_type": "error",
     "traceback": [
      "\u001b[0;31m---------------------------------------------------------------------------\u001b[0m",
      "\u001b[0;31mNameError\u001b[0m                                 Traceback (most recent call last)",
      "\u001b[0;32m<ipython-input-43-7f4a1f31d4a6>\u001b[0m in \u001b[0;36m<module>\u001b[0;34m\u001b[0m\n\u001b[0;32m----> 1\u001b[0;31m \u001b[0mmy_model\u001b[0m \u001b[0;34m=\u001b[0m \u001b[0mXGBRegressor\u001b[0m\u001b[0;34m(\u001b[0m\u001b[0;34m**\u001b[0m\u001b[0mmodel\u001b[0m\u001b[0;34m.\u001b[0m\u001b[0mbest_params_\u001b[0m\u001b[0;34m,\u001b[0m \u001b[0mobjective\u001b[0m\u001b[0;34m=\u001b[0m \u001b[0;34m'binary:logistic'\u001b[0m \u001b[0;34m)\u001b[0m\u001b[0;34m\u001b[0m\u001b[0;34m\u001b[0m\u001b[0m\n\u001b[0m\u001b[1;32m      2\u001b[0m \u001b[0;34m'''my_model = XGBRegressor(parameters = best_params, objective= 'binary:logistic')'''\u001b[0m\u001b[0;34m\u001b[0m\u001b[0;34m\u001b[0m\u001b[0m\n",
      "\u001b[0;31mNameError\u001b[0m: name 'model' is not defined"
     ]
    }
   ],
   "source": [
    "my_model = XGBRegressor(**model.best_params_, objective= 'binary:logistic' )\n",
    "'''my_model = XGBRegressor(parameters = best_params, objective= 'binary:logistic')'''"
   ]
  },
  {
   "cell_type": "markdown",
   "metadata": {
    "papermill": {
     "duration": 0.056323,
     "end_time": "2020-11-04T12:46:31.297201",
     "exception": false,
     "start_time": "2020-11-04T12:46:31.240878",
     "status": "completed"
    },
    "tags": []
   },
   "source": [
    "# CRoss-Validation"
   ]
  },
  {
   "cell_type": "code",
   "execution_count": 44,
   "metadata": {
    "execution": {
     "iopub.execute_input": "2020-11-04T12:46:31.428619Z",
     "iopub.status.busy": "2020-11-04T12:46:31.427893Z",
     "iopub.status.idle": "2020-11-04T12:46:31.432504Z",
     "shell.execute_reply": "2020-11-04T12:46:31.431939Z"
    },
    "papermill": {
     "duration": 0.076209,
     "end_time": "2020-11-04T12:46:31.432642",
     "exception": false,
     "start_time": "2020-11-04T12:46:31.356433",
     "status": "completed"
    },
    "tags": []
   },
   "outputs": [
    {
     "ename": "NameError",
     "evalue": "name 'my_model' is not defined",
     "output_type": "error",
     "traceback": [
      "\u001b[0;31m---------------------------------------------------------------------------\u001b[0m",
      "\u001b[0;31mNameError\u001b[0m                                 Traceback (most recent call last)",
      "\u001b[0;32m<ipython-input-44-c462f48024f1>\u001b[0m in \u001b[0;36m<module>\u001b[0;34m\u001b[0m\n\u001b[1;32m      2\u001b[0m \u001b[0;34m\u001b[0m\u001b[0m\n\u001b[1;32m      3\u001b[0m \u001b[0;31m# Multiply by -1 since sklearn calculates *negative* MAE\u001b[0m\u001b[0;34m\u001b[0m\u001b[0;34m\u001b[0m\u001b[0;34m\u001b[0m\u001b[0m\n\u001b[0;32m----> 4\u001b[0;31m scores = -1 * cross_val_score(my_model, X, y,\n\u001b[0m\u001b[1;32m      5\u001b[0m                               \u001b[0mcv\u001b[0m\u001b[0;34m=\u001b[0m\u001b[0;36m5\u001b[0m\u001b[0;34m,\u001b[0m\u001b[0;34m\u001b[0m\u001b[0;34m\u001b[0m\u001b[0m\n\u001b[1;32m      6\u001b[0m                               scoring='neg_mean_absolute_error')\n",
      "\u001b[0;31mNameError\u001b[0m: name 'my_model' is not defined"
     ]
    }
   ],
   "source": [
    "from sklearn.model_selection import cross_val_score\n",
    "\n",
    "# Multiply by -1 since sklearn calculates *negative* MAE\n",
    "scores = -1 * cross_val_score(my_model, X, y,\n",
    "                              cv=5,\n",
    "                              scoring='neg_mean_absolute_error')\n",
    "\n",
    "print(\"MAE scores:\\n\", scores)"
   ]
  },
  {
   "cell_type": "code",
   "execution_count": 45,
   "metadata": {
    "execution": {
     "iopub.execute_input": "2020-11-04T12:46:31.561808Z",
     "iopub.status.busy": "2020-11-04T12:46:31.560956Z",
     "iopub.status.idle": "2020-11-04T12:46:31.565328Z",
     "shell.execute_reply": "2020-11-04T12:46:31.564718Z"
    },
    "papermill": {
     "duration": 0.075584,
     "end_time": "2020-11-04T12:46:31.565439",
     "exception": false,
     "start_time": "2020-11-04T12:46:31.489855",
     "status": "completed"
    },
    "tags": []
   },
   "outputs": [
    {
     "ename": "NameError",
     "evalue": "name 'my_model' is not defined",
     "output_type": "error",
     "traceback": [
      "\u001b[0;31m---------------------------------------------------------------------------\u001b[0m",
      "\u001b[0;31mNameError\u001b[0m                                 Traceback (most recent call last)",
      "\u001b[0;32m<ipython-input-45-bc7a9b6dfd9e>\u001b[0m in \u001b[0;36m<module>\u001b[0;34m\u001b[0m\n\u001b[0;32m----> 1\u001b[0;31m \u001b[0mmy_model\u001b[0m\u001b[0;34m.\u001b[0m\u001b[0mfit\u001b[0m\u001b[0;34m(\u001b[0m\u001b[0mX\u001b[0m\u001b[0;34m,\u001b[0m\u001b[0my\u001b[0m\u001b[0;34m)\u001b[0m\u001b[0;34m\u001b[0m\u001b[0;34m\u001b[0m\u001b[0m\n\u001b[0m",
      "\u001b[0;31mNameError\u001b[0m: name 'my_model' is not defined"
     ]
    }
   ],
   "source": [
    "my_model.fit(X,y)"
   ]
  },
  {
   "cell_type": "code",
   "execution_count": 46,
   "metadata": {
    "execution": {
     "iopub.execute_input": "2020-11-04T12:46:31.685804Z",
     "iopub.status.busy": "2020-11-04T12:46:31.684983Z",
     "iopub.status.idle": "2020-11-04T12:46:31.688107Z",
     "shell.execute_reply": "2020-11-04T12:46:31.688875Z"
    },
    "papermill": {
     "duration": 0.065583,
     "end_time": "2020-11-04T12:46:31.689016",
     "exception": false,
     "start_time": "2020-11-04T12:46:31.623433",
     "status": "completed"
    },
    "tags": []
   },
   "outputs": [
    {
     "name": "stdout",
     "output_type": "stream",
     "text": [
      "(891, 12)\n"
     ]
    }
   ],
   "source": [
    "print(train_data.shape, )"
   ]
  },
  {
   "cell_type": "code",
   "execution_count": 47,
   "metadata": {
    "execution": {
     "iopub.execute_input": "2020-11-04T12:46:31.821474Z",
     "iopub.status.busy": "2020-11-04T12:46:31.820637Z",
     "iopub.status.idle": "2020-11-04T12:46:31.824987Z",
     "shell.execute_reply": "2020-11-04T12:46:31.824377Z"
    },
    "papermill": {
     "duration": 0.078381,
     "end_time": "2020-11-04T12:46:31.825112",
     "exception": false,
     "start_time": "2020-11-04T12:46:31.746731",
     "status": "completed"
    },
    "tags": []
   },
   "outputs": [
    {
     "ename": "NameError",
     "evalue": "name 'my_model' is not defined",
     "output_type": "error",
     "traceback": [
      "\u001b[0;31m---------------------------------------------------------------------------\u001b[0m",
      "\u001b[0;31mNameError\u001b[0m                                 Traceback (most recent call last)",
      "\u001b[0;32m<ipython-input-47-530954c19139>\u001b[0m in \u001b[0;36m<module>\u001b[0;34m\u001b[0m\n\u001b[0;32m----> 1\u001b[0;31m \u001b[0mpreds_test\u001b[0m \u001b[0;34m=\u001b[0m \u001b[0mmy_model\u001b[0m\u001b[0;34m.\u001b[0m\u001b[0mpredict\u001b[0m\u001b[0;34m(\u001b[0m\u001b[0mtest_X\u001b[0m\u001b[0;34m)\u001b[0m\u001b[0;34m\u001b[0m\u001b[0;34m\u001b[0m\u001b[0m\n\u001b[0m\u001b[1;32m      2\u001b[0m \u001b[0;34m\u001b[0m\u001b[0m\n\u001b[1;32m      3\u001b[0m \u001b[0;31m# Save predictions in format used for competition scoring\u001b[0m\u001b[0;34m\u001b[0m\u001b[0;34m\u001b[0m\u001b[0;34m\u001b[0m\u001b[0m\n\u001b[1;32m      4\u001b[0m output = pd.DataFrame({'PassengerId': test_data['PassengerId'],\n\u001b[1;32m      5\u001b[0m                        'Survived': preds_test})\n",
      "\u001b[0;31mNameError\u001b[0m: name 'my_model' is not defined"
     ]
    }
   ],
   "source": [
    "preds_test = my_model.predict(test_X)\n",
    "\n",
    "# Save predictions in format used for competition scoring\n",
    "output = pd.DataFrame({'PassengerId': test_data['PassengerId'],\n",
    "                       'Survived': preds_test})\n",
    "\n"
   ]
  },
  {
   "cell_type": "code",
   "execution_count": 48,
   "metadata": {
    "execution": {
     "iopub.execute_input": "2020-11-04T12:46:31.947710Z",
     "iopub.status.busy": "2020-11-04T12:46:31.946681Z",
     "iopub.status.idle": "2020-11-04T12:46:31.949887Z",
     "shell.execute_reply": "2020-11-04T12:46:31.949246Z"
    },
    "papermill": {
     "duration": 0.066769,
     "end_time": "2020-11-04T12:46:31.950011",
     "exception": false,
     "start_time": "2020-11-04T12:46:31.883242",
     "status": "completed"
    },
    "tags": []
   },
   "outputs": [],
   "source": [
    "def roundss(col):\n",
    "    if col >= 0.5:\n",
    "        return 1\n",
    "    else:\n",
    "        return 0"
   ]
  },
  {
   "cell_type": "code",
   "execution_count": 49,
   "metadata": {
    "execution": {
     "iopub.execute_input": "2020-11-04T12:46:32.080896Z",
     "iopub.status.busy": "2020-11-04T12:46:32.080062Z",
     "iopub.status.idle": "2020-11-04T12:46:32.084433Z",
     "shell.execute_reply": "2020-11-04T12:46:32.083825Z"
    },
    "papermill": {
     "duration": 0.075788,
     "end_time": "2020-11-04T12:46:32.084542",
     "exception": false,
     "start_time": "2020-11-04T12:46:32.008754",
     "status": "completed"
    },
    "tags": []
   },
   "outputs": [
    {
     "ename": "NameError",
     "evalue": "name 'output' is not defined",
     "output_type": "error",
     "traceback": [
      "\u001b[0;31m---------------------------------------------------------------------------\u001b[0m",
      "\u001b[0;31mNameError\u001b[0m                                 Traceback (most recent call last)",
      "\u001b[0;32m<ipython-input-49-67b7022916fb>\u001b[0m in \u001b[0;36m<module>\u001b[0;34m\u001b[0m\n\u001b[0;32m----> 1\u001b[0;31m \u001b[0moutput\u001b[0m\u001b[0;34m.\u001b[0m\u001b[0mSurvived\u001b[0m \u001b[0;34m=\u001b[0m \u001b[0moutput\u001b[0m\u001b[0;34m.\u001b[0m\u001b[0mSurvived\u001b[0m\u001b[0;34m.\u001b[0m\u001b[0mapply\u001b[0m\u001b[0;34m(\u001b[0m\u001b[0mroundss\u001b[0m\u001b[0;34m)\u001b[0m\u001b[0;34m\u001b[0m\u001b[0;34m\u001b[0m\u001b[0m\n\u001b[0m",
      "\u001b[0;31mNameError\u001b[0m: name 'output' is not defined"
     ]
    }
   ],
   "source": [
    "output.Survived = output.Survived.apply(roundss)"
   ]
  },
  {
   "cell_type": "code",
   "execution_count": 50,
   "metadata": {
    "execution": {
     "iopub.execute_input": "2020-11-04T12:46:32.216633Z",
     "iopub.status.busy": "2020-11-04T12:46:32.215687Z",
     "iopub.status.idle": "2020-11-04T12:46:32.219841Z",
     "shell.execute_reply": "2020-11-04T12:46:32.219170Z"
    },
    "papermill": {
     "duration": 0.076454,
     "end_time": "2020-11-04T12:46:32.219968",
     "exception": false,
     "start_time": "2020-11-04T12:46:32.143514",
     "status": "completed"
    },
    "tags": []
   },
   "outputs": [
    {
     "ename": "NameError",
     "evalue": "name 'output' is not defined",
     "output_type": "error",
     "traceback": [
      "\u001b[0;31m---------------------------------------------------------------------------\u001b[0m",
      "\u001b[0;31mNameError\u001b[0m                                 Traceback (most recent call last)",
      "\u001b[0;32m<ipython-input-50-c07e600f39f0>\u001b[0m in \u001b[0;36m<module>\u001b[0;34m\u001b[0m\n\u001b[0;32m----> 1\u001b[0;31m \u001b[0moutput\u001b[0m\u001b[0;34m.\u001b[0m\u001b[0mSurvived\u001b[0m\u001b[0;34m.\u001b[0m\u001b[0mvalue_counts\u001b[0m\u001b[0;34m(\u001b[0m\u001b[0;34m)\u001b[0m\u001b[0;34m\u001b[0m\u001b[0;34m\u001b[0m\u001b[0m\n\u001b[0m",
      "\u001b[0;31mNameError\u001b[0m: name 'output' is not defined"
     ]
    }
   ],
   "source": [
    "output.Survived.value_counts()"
   ]
  },
  {
   "cell_type": "code",
   "execution_count": 51,
   "metadata": {
    "execution": {
     "iopub.execute_input": "2020-11-04T12:46:32.341825Z",
     "iopub.status.busy": "2020-11-04T12:46:32.340880Z",
     "iopub.status.idle": "2020-11-04T12:46:32.344852Z",
     "shell.execute_reply": "2020-11-04T12:46:32.344347Z"
    },
    "papermill": {
     "duration": 0.066334,
     "end_time": "2020-11-04T12:46:32.344958",
     "exception": false,
     "start_time": "2020-11-04T12:46:32.278624",
     "status": "completed"
    },
    "tags": []
   },
   "outputs": [
    {
     "ename": "SyntaxError",
     "evalue": "invalid syntax (<ipython-input-51-0b795784ce59>, line 2)",
     "output_type": "error",
     "traceback": [
      "\u001b[0;36m  File \u001b[0;32m\"<ipython-input-51-0b795784ce59>\"\u001b[0;36m, line \u001b[0;32m2\u001b[0m\n\u001b[0;31m    '''output\u001b[0m\n\u001b[0m             \n^\u001b[0m\n\u001b[0;31mSyntaxError\u001b[0m\u001b[0;31m:\u001b[0m invalid syntax\n"
     ]
    }
   ],
   "source": [
    "'''output.to_csv('submission2.csv', index=False)\n",
    "'''output"
   ]
  },
  {
   "cell_type": "code",
   "execution_count": 52,
   "metadata": {
    "execution": {
     "iopub.execute_input": "2020-11-04T12:46:32.473768Z",
     "iopub.status.busy": "2020-11-04T12:46:32.468934Z",
     "iopub.status.idle": "2020-11-04T12:46:32.482597Z",
     "shell.execute_reply": "2020-11-04T12:46:32.481968Z"
    },
    "papermill": {
     "duration": 0.077895,
     "end_time": "2020-11-04T12:46:32.482736",
     "exception": false,
     "start_time": "2020-11-04T12:46:32.404841",
     "status": "completed"
    },
    "tags": []
   },
   "outputs": [
    {
     "ename": "NameError",
     "evalue": "name 'output' is not defined",
     "output_type": "error",
     "traceback": [
      "\u001b[0;31m---------------------------------------------------------------------------\u001b[0m",
      "\u001b[0;31mNameError\u001b[0m                                 Traceback (most recent call last)",
      "\u001b[0;32m<ipython-input-52-97dc7a12d067>\u001b[0m in \u001b[0;36m<module>\u001b[0;34m\u001b[0m\n\u001b[0;32m----> 1\u001b[0;31m \u001b[0moutput\u001b[0m\u001b[0;34m.\u001b[0m\u001b[0mhist\u001b[0m\u001b[0;34m(\u001b[0m\u001b[0;34m)\u001b[0m\u001b[0;34m\u001b[0m\u001b[0;34m\u001b[0m\u001b[0m\n\u001b[0m",
      "\u001b[0;31mNameError\u001b[0m: name 'output' is not defined"
     ]
    }
   ],
   "source": [
    "output.hist()"
   ]
  },
  {
   "cell_type": "code",
   "execution_count": 53,
   "metadata": {
    "execution": {
     "iopub.execute_input": "2020-11-04T12:46:32.607674Z",
     "iopub.status.busy": "2020-11-04T12:46:32.606798Z",
     "iopub.status.idle": "2020-11-04T12:46:32.611024Z",
     "shell.execute_reply": "2020-11-04T12:46:32.610414Z"
    },
    "papermill": {
     "duration": 0.068528,
     "end_time": "2020-11-04T12:46:32.611135",
     "exception": false,
     "start_time": "2020-11-04T12:46:32.542607",
     "status": "completed"
    },
    "tags": []
   },
   "outputs": [
    {
     "data": {
      "text/plain": [
       "\"from sklearn.ensemble import RandomForestRegressor\\nforest = RandomForestRegressor(n_estimators=100, criterion='mae', random_state=0)\\nforest.fit(X,y)\\n\\noutput3 = pd.DataFrame({'PassengerId': test_data['PassengerId'],\\n                       'Survived': forest.predict(test_X)})\\noutput3.Survived = output3.Survived.apply(roundss)\\noutput3\\noutput3.to_csv('submission3.csv', index=False)\""
      ]
     },
     "execution_count": 53,
     "metadata": {},
     "output_type": "execute_result"
    }
   ],
   "source": [
    "'''from sklearn.ensemble import RandomForestRegressor\n",
    "forest = RandomForestRegressor(n_estimators=100, criterion='mae', random_state=0)\n",
    "forest.fit(X,y)\n",
    "\n",
    "output3 = pd.DataFrame({'PassengerId': test_data['PassengerId'],\n",
    "                       'Survived': forest.predict(test_X)})\n",
    "output3.Survived = output3.Survived.apply(roundss)\n",
    "output3\n",
    "output3.to_csv('submission3.csv', index=False)'''"
   ]
  },
  {
   "cell_type": "code",
   "execution_count": null,
   "metadata": {
    "papermill": {
     "duration": 0.060295,
     "end_time": "2020-11-04T12:46:32.732652",
     "exception": false,
     "start_time": "2020-11-04T12:46:32.672357",
     "status": "completed"
    },
    "tags": []
   },
   "outputs": [],
   "source": []
  },
  {
   "cell_type": "code",
   "execution_count": null,
   "metadata": {
    "papermill": {
     "duration": 0.060569,
     "end_time": "2020-11-04T12:46:32.853761",
     "exception": false,
     "start_time": "2020-11-04T12:46:32.793192",
     "status": "completed"
    },
    "tags": []
   },
   "outputs": [],
   "source": []
  }
 ],
 "metadata": {
  "kernelspec": {
   "display_name": "Python 3",
   "language": "python",
   "name": "python3"
  },
  "language_info": {
   "codemirror_mode": {
    "name": "ipython",
    "version": 3
   },
   "file_extension": ".py",
   "mimetype": "text/x-python",
   "name": "python",
   "nbconvert_exporter": "python",
   "pygments_lexer": "ipython3",
   "version": "3.7.6"
  },
  "papermill": {
   "duration": 18.783568,
   "end_time": "2020-11-04T12:46:33.024995",
   "environment_variables": {},
   "exception": null,
   "input_path": "__notebook__.ipynb",
   "output_path": "__notebook__.ipynb",
   "parameters": {},
   "start_time": "2020-11-04T12:46:14.241427",
   "version": "2.1.0"
  }
 },
 "nbformat": 4,
 "nbformat_minor": 4
}
